{
  "nbformat": 4,
  "nbformat_minor": 0,
  "metadata": {
    "colab": {
      "name": "Basic Python Programs.ipynb",
      "provenance": [],
      "authorship_tag": "ABX9TyOQUQSRimUTWF2kV6EAcIEz",
      "include_colab_link": true
    },
    "kernelspec": {
      "name": "python3",
      "display_name": "Python 3"
    },
    "language_info": {
      "name": "python"
    }
  },
  "cells": [
    {
      "cell_type": "markdown",
      "metadata": {
        "id": "view-in-github",
        "colab_type": "text"
      },
      "source": [
        "<a href=\"https://colab.research.google.com/github/SubhamMohanty187/Data-Science/blob/main/Python/Basic_Python_Programs.ipynb\" target=\"_parent\"><img src=\"https://colab.research.google.com/assets/colab-badge.svg\" alt=\"Open In Colab\"/></a>"
      ]
    },
    {
      "cell_type": "code",
      "metadata": {
        "colab": {
          "base_uri": "https://localhost:8080/"
        },
        "id": "HNFswTU92wSg",
        "outputId": "7683f8c9-9da0-4945-b08e-b2b862a83a43"
      },
      "source": [
        "a = int(input(\"Enter first number: \")) \n",
        "b = int(input(\"Enter second number: \"))\n",
        "c = int(input(\"Enter third number: \"))\n",
        "s = (a+b+c)/3\n",
        "print(\"Average: \",s)"
      ],
      "execution_count": null,
      "outputs": [
        {
          "output_type": "stream",
          "name": "stdout",
          "text": [
            "Enter first number: 5\n",
            "Enter second number: 10 \n",
            "Enter third number: 5\n",
            "Average:  6.666666666666667\n"
          ]
        }
      ]
    },
    {
      "cell_type": "code",
      "metadata": {
        "colab": {
          "base_uri": "https://localhost:8080/"
        },
        "id": "knSPz6fa63v8",
        "outputId": "019cd9c7-a7a7-4cbc-a457-63d874066ae6"
      },
      "source": [
        "x = int(input(\"Enter base:\"))\n",
        "n = int(input(\"Enter exponenet: \"))\n",
        "print(x**n)"
      ],
      "execution_count": null,
      "outputs": [
        {
          "output_type": "stream",
          "name": "stdout",
          "text": [
            "Enter base:10\n",
            "Enter exponenet: 4\n",
            "10000\n"
          ]
        }
      ]
    },
    {
      "cell_type": "code",
      "metadata": {
        "colab": {
          "base_uri": "https://localhost:8080/"
        },
        "id": "3P-E9PCC7H37",
        "outputId": "3280d90d-5366-47c0-9750-6647e0905264"
      },
      "source": [
        "a = int(input())\n",
        "b = int(input())\n",
        "c = int(input())\n",
        "print(b-a)"
      ],
      "execution_count": null,
      "outputs": [
        {
          "output_type": "stream",
          "name": "stdout",
          "text": [
            "1\n",
            "3\n",
            "5\n",
            "2\n"
          ]
        }
      ]
    },
    {
      "cell_type": "code",
      "metadata": {
        "colab": {
          "base_uri": "https://localhost:8080/"
        },
        "id": "spAz6cUN74pa",
        "outputId": "a60d3fe6-2304-41f3-e72d-b2a75422d9a4"
      },
      "source": [
        "x1 = int(input())\n",
        "x2 = int(input())\n",
        "y1 = int(input())\n",
        "y2 = int(input())\n",
        "if x1<=x2 and y1<=y2:\n",
        "  print(\"Area: \",(y1-x1)*(y2-x2))"
      ],
      "execution_count": null,
      "outputs": [
        {
          "output_type": "stream",
          "name": "stdout",
          "text": [
            "2\n",
            "2\n",
            "6\n",
            "6\n",
            "Area:  16\n"
          ]
        }
      ]
    },
    {
      "cell_type": "code",
      "metadata": {
        "colab": {
          "base_uri": "https://localhost:8080/"
        },
        "id": "vJYAh9emd8nZ",
        "outputId": "b714906d-a6e3-4027-fcfb-7a7e99604d26"
      },
      "source": [
        "n = int(input(\"Enter a number: \"))\n",
        "count = 1\n",
        "sum=0\n",
        "while count<=n:\n",
        "  sum += count\n",
        "  count += 1\n",
        "print(sum)"
      ],
      "execution_count": null,
      "outputs": [
        {
          "output_type": "stream",
          "name": "stdout",
          "text": [
            "Enter a number: 5\n",
            "15\n"
          ]
        }
      ]
    },
    {
      "cell_type": "code",
      "metadata": {
        "colab": {
          "base_uri": "https://localhost:8080/"
        },
        "id": "kGfDbFl6e61-",
        "outputId": "f0491334-38b8-4a5f-835d-d26b72412b82"
      },
      "source": [
        "n = int(input(\"Enter a number: \"))\n",
        "count = 1\n",
        "sum=0\n",
        "while count<=n:\n",
        "  if count%2 == 0:\n",
        "    sum += count\n",
        "  count += 1\n",
        "print(sum)"
      ],
      "execution_count": null,
      "outputs": [
        {
          "output_type": "stream",
          "name": "stdout",
          "text": [
            "Enter a number: 6\n",
            "12\n"
          ]
        }
      ]
    },
    {
      "cell_type": "markdown",
      "metadata": {
        "id": "llsOwFTP3E3t"
      },
      "source": [
        "Replace a string/char with another char"
      ]
    },
    {
      "cell_type": "code",
      "metadata": {
        "id": "jyw4TfFtjkp1",
        "colab": {
          "base_uri": "https://localhost:8080/",
          "height": 53
        },
        "outputId": "a7b4a0da-545a-4e23-950b-2742039c8971"
      },
      "source": [
        "str = input(\"Enter your string: \")\n",
        "ans =\"\"\n",
        "for i in str:\n",
        "  if i == \"x\":\n",
        "    ans = ans + \"y\"\n",
        "    continue\n",
        "  ans = ans + i\n",
        "ans"
      ],
      "execution_count": null,
      "outputs": [
        {
          "name": "stdout",
          "output_type": "stream",
          "text": [
            "Enter your string: axbxcx\n"
          ]
        },
        {
          "output_type": "execute_result",
          "data": {
            "application/vnd.google.colaboratory.intrinsic+json": {
              "type": "string"
            },
            "text/plain": [
              "'aybycy'"
            ]
          },
          "metadata": {},
          "execution_count": 3
        }
      ]
    },
    {
      "cell_type": "code",
      "source": [
        "x=3\n",
        "y=3\n",
        "print(id(x))\n",
        "print(id(y))"
      ],
      "metadata": {
        "id": "B7_urMLzXYAb"
      },
      "execution_count": null,
      "outputs": []
    },
    {
      "cell_type": "markdown",
      "metadata": {
        "id": "jy5q1tdZDvJe"
      },
      "source": [
        "Palindrome check"
      ]
    }
  ]
}
