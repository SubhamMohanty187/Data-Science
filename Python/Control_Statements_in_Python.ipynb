{
  "cells": [
    {
      "cell_type": "markdown",
      "metadata": {
        "id": "view-in-github",
        "colab_type": "text"
      },
      "source": [
        "<a href=\"https://colab.research.google.com/github/SubhamMohanty187/Data-Science/blob/main/Python/Control_Statements_in_Python.ipynb\" target=\"_parent\"><img src=\"https://colab.research.google.com/assets/colab-badge.svg\" alt=\"Open In Colab\"/></a>"
      ]
    },
    {
      "cell_type": "code",
      "execution_count": null,
      "id": "commercial-flower",
      "metadata": {
        "id": "commercial-flower"
      },
      "outputs": [],
      "source": [
        "# Python automatically converts\n",
        "# a to int\n",
        "a = 7\n",
        "print(type(a)) \n",
        "# Python automatically converts \n",
        "# b to float\n",
        "b = 3.0\n",
        "print(type(b)) \n",
        "# Python automatically converts\n",
        "# c to float as it is a float addition\n",
        "c = a + b\n",
        "print(c)\n",
        "print(type(c)) \n",
        "# Python automatically converts\n",
        "# d to float as it is a float multiplication\n",
        "d = a * b\n",
        "print(d)\n",
        "print(type(d))"
      ]
    },
    {
      "cell_type": "code",
      "execution_count": null,
      "id": "systematic-moscow",
      "metadata": {
        "id": "systematic-moscow"
      },
      "outputs": [],
      "source": [
        "import numpy as np \n",
        "B = np.random.rand(1000000) \n",
        "%timeit sum(B)\n",
        "%timeit np.sum(B)\n"
      ]
    },
    {
      "cell_type": "code",
      "execution_count": null,
      "id": "intimate-middle",
      "metadata": {
        "id": "intimate-middle"
      },
      "outputs": [],
      "source": [
        "\n",
        "%%timeit\n",
        "S=0\n",
        "for x in B: \n",
        "    S = S + x\n",
        "print(S)"
      ]
    },
    {
      "cell_type": "code",
      "execution_count": null,
      "id": "desirable-silence",
      "metadata": {
        "id": "desirable-silence"
      },
      "outputs": [],
      "source": [
        "price = input(\"Enter the price: \")\n",
        "price = float(price) \n",
        "print('Price =', price)\n",
        "print('Not a number!')"
      ]
    },
    {
      "cell_type": "code",
      "execution_count": null,
      "id": "compressed-pacific",
      "metadata": {
        "id": "compressed-pacific"
      },
      "outputs": [],
      "source": [
        "price = input(\"Enter the price: \")\n",
        "try:\n",
        "    price = float(price) \n",
        "    print('Price =', price)\n",
        "except ValueError:\n",
        "    print('Not a number!')"
      ]
    },
    {
      "cell_type": "code",
      "execution_count": null,
      "id": "obvious-employee",
      "metadata": {
        "id": "obvious-employee"
      },
      "outputs": [],
      "source": [
        "price = input(\"Enter the price: \")\n",
        "print(type(price))\n",
        "price = int(price) \n",
        "print('Price =', price)\n",
        "print(type(price))"
      ]
    },
    {
      "cell_type": "code",
      "execution_count": null,
      "id": "abandoned-makeup",
      "metadata": {
        "id": "abandoned-makeup"
      },
      "outputs": [],
      "source": [
        "c = 'hi' + str(10)\n",
        "print(c)"
      ]
    },
    {
      "cell_type": "code",
      "execution_count": null,
      "id": "alternate-latter",
      "metadata": {
        "id": "alternate-latter"
      },
      "outputs": [],
      "source": [
        "type(c)"
      ]
    },
    {
      "cell_type": "code",
      "execution_count": null,
      "id": "featured-student",
      "metadata": {
        "id": "featured-student"
      },
      "outputs": [],
      "source": [
        "len(c)"
      ]
    },
    {
      "cell_type": "code",
      "execution_count": null,
      "id": "brave-monroe",
      "metadata": {
        "id": "brave-monroe"
      },
      "outputs": [],
      "source": [
        "import numpy as np\n",
        "B = np.random.rand(1000000)\n",
        "%timeit sum(B)"
      ]
    },
    {
      "cell_type": "code",
      "execution_count": null,
      "id": "quick-nickel",
      "metadata": {
        "id": "quick-nickel"
      },
      "outputs": [],
      "source": [
        "%timeit np.sum(B)"
      ]
    },
    {
      "cell_type": "code",
      "execution_count": null,
      "id": "recent-large",
      "metadata": {
        "id": "recent-large"
      },
      "outputs": [],
      "source": [
        "%%timeit\n",
        "S=0\n",
        "for x in B:\n",
        "    S+=x"
      ]
    },
    {
      "cell_type": "code",
      "execution_count": null,
      "id": "intimate-vehicle",
      "metadata": {
        "id": "intimate-vehicle"
      },
      "outputs": [],
      "source": [
        "a = 33 \n",
        "b = 200 \n",
        "if b > a:\n",
        "    print(\"b is greater than a\")\n",
        "print(a)\n",
        "print(b)"
      ]
    },
    {
      "cell_type": "code",
      "execution_count": null,
      "id": "announced-provider",
      "metadata": {
        "id": "announced-provider"
      },
      "outputs": [],
      "source": [
        "x,y =12,10 \n",
        "if(x < y): \n",
        "    st= \"x is less than y\" \n",
        "elif (x == y):\n",
        "    st= \"x is same as y\" \n",
        "else: \n",
        "    st=\"x is greater than y\" \n",
        "print(st)\n"
      ]
    },
    {
      "cell_type": "code",
      "execution_count": null,
      "id": "egyptian-harrison",
      "metadata": {
        "id": "egyptian-harrison"
      },
      "outputs": [],
      "source": [
        "list=[1,2,3,4,5]\n",
        "for i in list:\n",
        "    print(i)\n",
        "    \n",
        "print(i)"
      ]
    },
    {
      "cell_type": "code",
      "execution_count": null,
      "id": "specialized-jaguar",
      "metadata": {
        "id": "specialized-jaguar"
      },
      "outputs": [],
      "source": [
        "while (i<10) :\n",
        "    print(i)\n",
        "    i = i+1"
      ]
    },
    {
      "cell_type": "code",
      "execution_count": null,
      "id": "sharp-german",
      "metadata": {
        "id": "sharp-german"
      },
      "outputs": [],
      "source": [
        "range(3,7)"
      ]
    },
    {
      "cell_type": "code",
      "execution_count": null,
      "id": "aboriginal-registrar",
      "metadata": {
        "id": "aboriginal-registrar"
      },
      "outputs": [],
      "source": [
        "li = range(13,7) \n",
        "li"
      ]
    },
    {
      "cell_type": "code",
      "execution_count": null,
      "id": "junior-drove",
      "metadata": {
        "id": "junior-drove"
      },
      "outputs": [],
      "source": [
        "print(li)"
      ]
    },
    {
      "cell_type": "code",
      "execution_count": null,
      "id": "circular-tourism",
      "metadata": {
        "id": "circular-tourism"
      },
      "outputs": [],
      "source": [
        "for i in range(3,17,4):\n",
        "    print(i)"
      ]
    },
    {
      "cell_type": "code",
      "execution_count": null,
      "id": "animal-philosophy",
      "metadata": {
        "id": "animal-philosophy"
      },
      "outputs": [],
      "source": [
        "for i in range(10):\n",
        "    print(i)"
      ]
    },
    {
      "cell_type": "code",
      "execution_count": null,
      "id": "reserved-offset",
      "metadata": {
        "id": "reserved-offset"
      },
      "outputs": [],
      "source": [
        "for i in range(10):\n",
        "    i=i+1\n",
        "    print(i)"
      ]
    },
    {
      "cell_type": "code",
      "execution_count": null,
      "id": "foreign-baptist",
      "metadata": {
        "id": "foreign-baptist"
      },
      "outputs": [],
      "source": [
        "li = [1,2,3,4,5,6,7]\n",
        "j = 0\n",
        "for i in li:\n",
        "    print(i)"
      ]
    },
    {
      "cell_type": "code",
      "execution_count": null,
      "id": "structural-subcommittee",
      "metadata": {
        "id": "structural-subcommittee"
      },
      "outputs": [],
      "source": [
        "print(j)\n",
        "print(type(j))"
      ]
    },
    {
      "cell_type": "code",
      "execution_count": null,
      "id": "cleared-employee",
      "metadata": {
        "id": "cleared-employee"
      },
      "outputs": [],
      "source": [
        "length = len(li)\n",
        "while length >= 3:\n",
        "    print(length)\n",
        "    if length <= 5:\n",
        "        break\n",
        "    length = length - 1        "
      ]
    },
    {
      "cell_type": "code",
      "execution_count": null,
      "id": "leading-slovakia",
      "metadata": {
        "id": "leading-slovakia"
      },
      "outputs": [],
      "source": [
        "length = len(li)\n",
        "while length >= 3:    \n",
        "    length = length - 1 \n",
        "    if length <= 5:\n",
        "        continue\n",
        "    print(length)"
      ]
    },
    {
      "cell_type": "code",
      "execution_count": null,
      "id": "sunrise-paragraph",
      "metadata": {
        "id": "sunrise-paragraph"
      },
      "outputs": [],
      "source": [
        "li = [1,2,3,4,5,6,7]\n",
        "j = 0\n",
        "for i in li:\n",
        "    for i in li:\n",
        "        i=i+1\n",
        "        j=j+1\n",
        "    print(j)\n",
        "print(j)"
      ]
    },
    {
      "cell_type": "code",
      "execution_count": null,
      "id": "brilliant-hurricane",
      "metadata": {
        "id": "brilliant-hurricane"
      },
      "outputs": [],
      "source": [
        "x = int(input(\"x? \"))\n",
        "y = int(input(\"y? \"))\n",
        "if x < y: \n",
        "    print('x is less than y') \n",
        "elif x > y: \n",
        "    print('x is greater than y') \n",
        "else: \n",
        "    print('x and y are equal')\n"
      ]
    },
    {
      "cell_type": "code",
      "execution_count": null,
      "id": "strong-beauty",
      "metadata": {
        "id": "strong-beauty"
      },
      "outputs": [],
      "source": [
        "highest = 0\n",
        "for value in [9, 41, 12, 3, 74, 15] :\n",
        "    if value > highest:\n",
        "        highest = value \n",
        "        \n",
        "print('highest' , highest)\n"
      ]
    },
    {
      "cell_type": "code",
      "execution_count": null,
      "id": "random-brooks",
      "metadata": {
        "id": "random-brooks"
      },
      "outputs": [],
      "source": [
        "list = [9, 41, 12, 3, 74, 15]\n",
        "print(list[4])"
      ]
    },
    {
      "cell_type": "code",
      "execution_count": null,
      "id": "needed-community",
      "metadata": {
        "id": "needed-community"
      },
      "outputs": [],
      "source": [
        "list = [9, 41, 12, 3, 74, 15]\n",
        "smallest = list[0]\n",
        "for value in list :\n",
        "    if value < smallest:\n",
        "        smallest = value \n",
        "        \n",
        "print('smallest' , smallest)"
      ]
    },
    {
      "cell_type": "code",
      "execution_count": null,
      "id": "accomplished-twist",
      "metadata": {
        "id": "accomplished-twist"
      },
      "outputs": [],
      "source": [
        "smallest = None\n",
        "for value in [9, 41, 12, 3, 74, 15,103,305, 7 , 102.5, 167.44,1] : \n",
        "     if smallest is None : \n",
        "         smallest = value   \n",
        "     elif value < smallest : \n",
        "         smallest = value   \n",
        "     #print(smallest, value)\n",
        "print('After', smallest)"
      ]
    },
    {
      "cell_type": "code",
      "execution_count": null,
      "id": "nearby-diameter",
      "metadata": {
        "id": "nearby-diameter"
      },
      "outputs": [],
      "source": [
        "def average(numbers):\n",
        "    total = 0\n",
        "    for num in numbers:\n",
        "        total = total + num\n",
        "    avg = total/len(numbers)\n",
        "    return avg, total\n",
        "def main():\n",
        "    prices = [29, 21, 55, 10, 12,16,190,347,1024, 9403, 125, 341942, 20394, 109236, 3470, 5732, 1293, 10039,5783]\n",
        "    result, tot = average(prices)\n",
        "    print(tot)\n",
        "    print(result)\n",
        "main()"
      ]
    },
    {
      "cell_type": "code",
      "execution_count": null,
      "id": "regular-temperature",
      "metadata": {
        "id": "regular-temperature"
      },
      "outputs": [],
      "source": [
        "# write one generic function to find the nth highest in a list\n",
        "# Assignment"
      ]
    },
    {
      "cell_type": "code",
      "execution_count": null,
      "id": "aboriginal-findings",
      "metadata": {
        "id": "aboriginal-findings",
        "outputId": "4b89c829-5bd9-440c-f274-fd0d97699da8"
      },
      "outputs": [
        {
          "name": "stdout",
          "output_type": "stream",
          "text": [
            "25\n",
            "28.75\n"
          ]
        }
      ],
      "source": [
        "def average(numbers):\n",
        "    total = 0\n",
        "    for num in numbers:\n",
        "        total = total + num\n",
        "    avg = total/len(numbers)\n",
        "    return avg\n",
        "def main():\n",
        "    prices = [29, 21, 55, 10]\n",
        "    result = average(prices)\n",
        "    print(order_goal)\n",
        "    print(result)\n",
        "\n",
        "main()\n",
        "order_goal = 25"
      ]
    },
    {
      "cell_type": "code",
      "execution_count": null,
      "id": "received-termination",
      "metadata": {
        "id": "received-termination"
      },
      "outputs": [],
      "source": [
        "while True :\n",
        "    print('hi')"
      ]
    },
    {
      "cell_type": "code",
      "execution_count": null,
      "id": "spiritual-viking",
      "metadata": {
        "id": "spiritual-viking",
        "outputId": "e9b8f60b-5838-4956-c9b9-9f2ad5408c61"
      },
      "outputs": [
        {
          "name": "stdout",
          "output_type": "stream",
          "text": [
            "11\n",
            "12\n",
            "13\n",
            "14\n",
            "16\n",
            "17\n",
            "18\n",
            "19\n",
            "20\n"
          ]
        }
      ],
      "source": [
        "a = 10\n",
        "while a < 20 :\n",
        "    a += 1\n",
        "    if(a == 15):\n",
        "        continue    \n",
        "    print(a)\n",
        "    "
      ]
    },
    {
      "cell_type": "code",
      "execution_count": null,
      "id": "clear-justice",
      "metadata": {
        "id": "clear-justice"
      },
      "outputs": [],
      "source": [
        ""
      ]
    }
  ],
  "metadata": {
    "kernelspec": {
      "display_name": "Python 3",
      "language": "python",
      "name": "python3"
    },
    "language_info": {
      "codemirror_mode": {
        "name": "ipython",
        "version": 3
      },
      "file_extension": ".py",
      "mimetype": "text/x-python",
      "name": "python",
      "nbconvert_exporter": "python",
      "pygments_lexer": "ipython3",
      "version": "3.7.10"
    },
    "colab": {
      "name": "Control Statements in Python.ipynb",
      "provenance": [],
      "include_colab_link": true
    }
  },
  "nbformat": 4,
  "nbformat_minor": 5
}
