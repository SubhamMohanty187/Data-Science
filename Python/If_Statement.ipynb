{
  "cells": [
    {
      "cell_type": "markdown",
      "metadata": {
        "id": "view-in-github",
        "colab_type": "text"
      },
      "source": [
        "<a href=\"https://colab.research.google.com/github/SubhamMohanty187/Data-Science/blob/main/Python/If_Statement.ipynb\" target=\"_parent\"><img src=\"https://colab.research.google.com/assets/colab-badge.svg\" alt=\"Open In Colab\"/></a>"
      ]
    },
    {
      "cell_type": "code",
      "execution_count": null,
      "metadata": {
        "id": "mrjrlotXv3Y7",
        "outputId": "31d70f8b-1e23-4b4c-c988-aaef1552efbf"
      },
      "outputs": [
        {
          "name": "stdout",
          "output_type": "stream",
          "text": [
            "Value is negative \n"
          ]
        }
      ],
      "source": [
        "x = -3 \n",
        "\n",
        "if x > 0: \n",
        "    print(\"Value is positive\")\n",
        "\n",
        "elif x < 0:\n",
        "    print(\"Value is negative\")\n",
        "\n",
        "else:\n",
        "    print(\"Value is zero\")"
      ]
    },
    {
      "cell_type": "code",
      "execution_count": null,
      "metadata": {
        "id": "NqGBQkyWv3Y-",
        "outputId": "6f4a42dc-0fce-469e-d7f8-55f134025363"
      },
      "outputs": [
        {
          "name": "stdout",
          "output_type": "stream",
          "text": [
            "luttapi has failed in the exam\n"
          ]
        }
      ],
      "source": [
        "name = \"luttapi\"\n",
        "mark = 30\n",
        "\n",
        "if mark < 45:\n",
        "    print(name, \"has failed in the exam\")\n",
        "        \n",
        "elif geneExpression > 0:\n",
        "    print(name, \"has passed in the exam\")\n",
        "        \n",
        "else:\n",
        "    pass"
      ]
    },
    {
      "cell_type": "code",
      "execution_count": null,
      "metadata": {
        "collapsed": true,
        "id": "82LGC-Wiv3Y_"
      },
      "outputs": [],
      "source": [
        "x = 11\n",
        "\n",
        "if x < 10:\n",
        "    s = \"Yes\"\n",
        "else:\n",
        "    s = \"No\"\n",
        "print(s)\n",
        "\n",
        "# Could also be written onto one line\n",
        "s = \"Yes\" if x < 10 else \"No\"\n",
        "print(s)"
      ]
    },
    {
      "cell_type": "code",
      "execution_count": null,
      "metadata": {
        "id": "Ey6SX1CSv3ZA",
        "outputId": "7e4a39d4-703a-4d6f-edb6-ec036b307dab"
      },
      "outputs": [
        {
          "name": "stdout",
          "output_type": "stream",
          "text": [
            "In range A\n"
          ]
        }
      ],
      "source": [
        "x = 5\n",
        "\n",
        "#if x > 0 and x < 10:\n",
        "if 0 < x < 10: #is also possible\n",
        "    print(\"In range A\")\n",
        "else:\n",
        "    print(\"Not in range\")\n",
        "    \n",
        "#elif x < 0 or x > 10:\n",
        "#    print(\"In range B\")"
      ]
    },
    {
      "cell_type": "code",
      "execution_count": null,
      "metadata": {
        "collapsed": true,
        "id": "3E5Ya4V8v3ZB"
      },
      "outputs": [],
      "source": [
        "x = [123, 54, 92, 87, 33]\n",
        "y = x[:] # y is a copy of x\n",
        "z = x\n",
        "print(x)\n",
        "print(\"Are values of y and x the same?\", y == x)\n",
        "print(\"Are objects y and x the same?\", y is x)\n",
        "print(\"Are values of z and x the same?\", z == x)\n",
        "print(\"Are objects z and x the same?\", z is x)\n",
        "# Let's change x\n",
        "x[1] = 23\n",
        "print(x)\n",
        "print(\"Are values of y and x the same?\", y == x)\n",
        "print(\"Are objects y and x the same?\", y is x)\n",
        "print(\"Are values of z and x the same?\", z == x)\n",
        "print(\"Are objects z and x the same?\", z is x)"
      ]
    },
    {
      "cell_type": "code",
      "execution_count": null,
      "metadata": {
        "collapsed": true,
        "id": "hlbKYaC1v3ZB"
      },
      "outputs": [],
      "source": [
        "x = ''      # An empty string\n",
        "y = ['a']   # A list with one item\n",
        "\n",
        "if x:\n",
        "    print(\"x is true\")\n",
        "else: \n",
        "    print(\"x is false\")     \n",
        "\n",
        "if y:\n",
        "    print(\"y is true\")\n",
        "else:\n",
        "    print(\"y is false\")"
      ]
    }
  ],
  "metadata": {
    "kernelspec": {
      "display_name": "Python 3",
      "language": "python",
      "name": "python3"
    },
    "language_info": {
      "codemirror_mode": {
        "name": "ipython",
        "version": 3
      },
      "file_extension": ".py",
      "mimetype": "text/x-python",
      "name": "python",
      "nbconvert_exporter": "python",
      "pygments_lexer": "ipython3",
      "version": "3.7.10"
    },
    "colab": {
      "name": "If-Statement.ipynb",
      "provenance": [],
      "include_colab_link": true
    }
  },
  "nbformat": 4,
  "nbformat_minor": 0
}
