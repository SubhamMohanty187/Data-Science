{
  "cells": [
    {
      "cell_type": "markdown",
      "metadata": {
        "id": "view-in-github",
        "colab_type": "text"
      },
      "source": [
        "<a href=\"https://colab.research.google.com/github/SubhamMohanty187/Data-Science/blob/main/Python/List_Tuple_String.ipynb\" target=\"_parent\"><img src=\"https://colab.research.google.com/assets/colab-badge.svg\" alt=\"Open In Colab\"/></a>"
      ]
    },
    {
      "cell_type": "code",
      "execution_count": null,
      "metadata": {
        "id": "SbcltQ3HpxGu",
        "outputId": "1bb085cb-f68c-447b-de9f-40bd8bdfbab4"
      },
      "outputs": [
        {
          "name": "stdout",
          "output_type": "stream",
          "text": [
            "spam\n",
            "['spam', 'eggs', 100, 1234] \n"
          ]
        }
      ],
      "source": [
        "a = ['spam', 'eggs', 100, 1234, 2*2] \n",
        "print(a[0])\n",
        "print(a[:4])"
      ]
    },
    {
      "cell_type": "code",
      "execution_count": null,
      "metadata": {
        "id": "MJckKKnWpxGz"
      },
      "outputs": [],
      "source": [
        "a[2] = a[2] + 23"
      ]
    },
    {
      "cell_type": "code",
      "execution_count": null,
      "metadata": {
        "id": "qUKMo5BppxG0"
      },
      "outputs": [],
      "source": [
        "a[0:2] = [1,12]"
      ]
    },
    {
      "cell_type": "code",
      "execution_count": null,
      "metadata": {
        "id": "y8IDW1eMpxG0",
        "outputId": "b5293a40-ff9c-40d5-dfe6-3148951b87a4"
      },
      "outputs": [
        {
          "name": "stdout",
          "output_type": "stream",
          "text": [
            "[12, 123, 1234, 4]\n"
          ]
        }
      ],
      "source": [
        "print(a)"
      ]
    },
    {
      "cell_type": "code",
      "execution_count": null,
      "metadata": {
        "id": "wIHGBfJspxG1"
      },
      "outputs": [],
      "source": [
        "a[0:1] = []"
      ]
    },
    {
      "cell_type": "code",
      "execution_count": null,
      "metadata": {
        "id": "-orfXTaypxG2",
        "outputId": "e84d0809-ee4c-4a45-835d-2d5a0b3c784e"
      },
      "outputs": [
        {
          "name": "stdout",
          "output_type": "stream",
          "text": [
            "6\n"
          ]
        }
      ],
      "source": [
        "lis = [ 1, [5,6], 7] \n",
        "print(lis[1][1])"
      ]
    },
    {
      "cell_type": "code",
      "execution_count": null,
      "metadata": {
        "id": "w24R59ICpxG2"
      },
      "outputs": [],
      "source": [
        "list = range(3)"
      ]
    },
    {
      "cell_type": "code",
      "execution_count": null,
      "metadata": {
        "id": "6zR0nc-BpxG3",
        "outputId": "47886ba7-4998-4902-d131-4d29a75bdece"
      },
      "outputs": [
        {
          "name": "stdout",
          "output_type": "stream",
          "text": [
            "Happy New Year: Joseph\n",
            "Happy New Year: Glenn\n",
            "Happy New Year: Sally\n"
          ]
        }
      ],
      "source": [
        "friends = ['Joseph', 'Glenn', 'Sally']\n",
        "for friend in friends :\n",
        "    print('Happy New Year:',  friend)"
      ]
    },
    {
      "cell_type": "code",
      "execution_count": null,
      "metadata": {
        "id": "HA3gDsLNpxG4",
        "outputId": "301761ab-2ab1-4966-b1fb-e4eac7c259a1"
      },
      "outputs": [
        {
          "name": "stdout",
          "output_type": "stream",
          "text": [
            "Happy New Year: Joseph\n",
            "Happy New Year: Glenn\n",
            "Happy New Year: Sally\n"
          ]
        }
      ],
      "source": [
        "for i in range(len(friends)) :\n",
        "    friend = friends[i]\n",
        "    print('Happy New Year:',  friend)"
      ]
    },
    {
      "cell_type": "code",
      "execution_count": null,
      "metadata": {
        "id": "Zpd6x5gIpxG5",
        "outputId": "0f83b179-0ef7-4a3c-d1d3-e99726eb3d15"
      },
      "outputs": [
        {
          "name": "stdout",
          "output_type": "stream",
          "text": [
            "['Sally', 'Joseph', 'Glenn']\n",
            "Joseph\n"
          ]
        }
      ],
      "source": [
        "friends.sort(reverse=True)\n",
        "print(friends)\n",
        "print(friends[1])"
      ]
    },
    {
      "cell_type": "code",
      "execution_count": null,
      "metadata": {
        "id": "HyU5OJAQpxG6"
      },
      "outputs": [],
      "source": [
        "friends.sort(reverse=True)\n",
        "print(friends)\n",
        "print(friends[1])"
      ]
    },
    {
      "cell_type": "code",
      "execution_count": null,
      "metadata": {
        "id": "IS6cYd__pxG6",
        "outputId": "13d0dca0-4f8f-4054-ad03-6574cb847155"
      },
      "outputs": [
        {
          "data": {
            "text/plain": [
              "[15, 3, 41]"
            ]
          },
          "execution_count": 17,
          "metadata": {},
          "output_type": "execute_result"
        }
      ],
      "source": [
        "t = [9, 41, 12, 3, 74, 15]\n",
        "t[::-2]"
      ]
    },
    {
      "cell_type": "code",
      "execution_count": null,
      "metadata": {
        "id": "2cjG7Zx-pxG7",
        "outputId": "544a071e-7de0-498b-bb34-7309a6261ff4"
      },
      "outputs": [
        {
          "name": "stdout",
          "output_type": "stream",
          "text": [
            "['book', 99]\n",
            "['book', 99, 'cookie']\n"
          ]
        }
      ],
      "source": [
        "stuff = list()\n",
        "stuff.append('book')\n",
        "stuff.append(99)\n",
        "print(stuff)\n",
        "stuff.append('cookie')\n",
        "print(stuff)"
      ]
    },
    {
      "cell_type": "code",
      "execution_count": null,
      "metadata": {
        "id": "jcukYGnSpxG8",
        "outputId": "c5e87ee4-4e8a-4f7a-d196-40ab7460020f"
      },
      "outputs": [
        {
          "name": "stdout",
          "output_type": "stream",
          "text": [
            "banana\n"
          ]
        }
      ],
      "source": [
        "fruit = 'Banana'\n",
        "#fruit[0] = 'b'\n",
        "x = fruit.lower()\n",
        "print(x)"
      ]
    },
    {
      "cell_type": "code",
      "execution_count": null,
      "metadata": {
        "id": "6CW8XXQ7pxG8"
      },
      "outputs": [],
      "source": [
        "total = 0\n",
        "count = 0\n",
        "while True :\n",
        "    inp = input('Enter a number: ')\n",
        "    if inp == 'done' : \n",
        "        break\n",
        "    value = float(inp)\n",
        "    total = total + value     \n",
        "    count = count + 1\n",
        "average = total / count\n",
        "print('Average:', average)"
      ]
    },
    {
      "cell_type": "code",
      "execution_count": null,
      "metadata": {
        "id": "n9yaQaWTpxG9",
        "outputId": "f570d55e-2494-4162-b467-9a5deb68a565"
      },
      "outputs": [
        {
          "name": "stdout",
          "output_type": "stream",
          "text": [
            "6\n",
            "74\n",
            "3\n",
            "154\n",
            "25.666666666666668\n"
          ]
        }
      ],
      "source": [
        "nums = [3, 41, 12, 9, 74, 15]\n",
        "print(len(nums))\n",
        "print(max(nums))\n",
        "print(min(nums))\n",
        "print(sum(nums))\n",
        "print(sum(nums)/len(nums))"
      ]
    },
    {
      "cell_type": "code",
      "execution_count": null,
      "metadata": {
        "id": "26K4W-o8pxG-"
      },
      "outputs": [],
      "source": [
        "abc = 'With three words'\n",
        "stuff = abc.split('h')\n",
        "print(stuff)\n",
        "print(len(stuff))\n",
        "print(stuff[0])"
      ]
    },
    {
      "cell_type": "code",
      "execution_count": null,
      "metadata": {
        "id": "Sp9UGkf6pxG_"
      },
      "outputs": [],
      "source": [
        "line = 'From salman.amir@gmail.com Sat Jan  5 09:14:16 2020'\n",
        "words = line.split()\n",
        "print(words)\n",
        "email = words[1]\n",
        "print(email)\n",
        "pieces = email.split('@')\n",
        "print(pieces[1])"
      ]
    },
    {
      "cell_type": "code",
      "execution_count": null,
      "metadata": {
        "id": "ITuVePsEpxHA"
      },
      "outputs": [],
      "source": [
        "d = { \"foo\" : 1, \"bar\" : 2 }\n",
        "print(d[\"bar\"])   # 2\n",
        "some_dict = {}\n",
        "some_dict[\"foo\"] = \"yow!\"\n",
        "some_dict[\"bar\"] = \"Dog!\"\n",
        "print(some_dict.keys()) # [\"foo\"]"
      ]
    },
    {
      "cell_type": "code",
      "execution_count": null,
      "metadata": {
        "id": "jcDVAE3qpxHA"
      },
      "outputs": [],
      "source": [
        "list"
      ]
    },
    {
      "cell_type": "code",
      "execution_count": null,
      "metadata": {
        "id": "ktUAY9fapxHB"
      },
      "outputs": [],
      "source": [
        "friends = ['Joseph', 'Glenn', 'Sally']\n",
        "for friend in friends :\n",
        "    print('Happy New Year:',  friend)\n"
      ]
    },
    {
      "cell_type": "code",
      "execution_count": null,
      "metadata": {
        "id": "iXDaffd3pxHB"
      },
      "outputs": [],
      "source": [
        "for i in range(len(friends)) :\n",
        "    print(len(friends))\n",
        "    print(i)\n",
        "    friend = friends[i]\n",
        "    print('Happy New Year:',  friend)"
      ]
    },
    {
      "cell_type": "code",
      "execution_count": null,
      "metadata": {
        "id": "bB8OG67MpxHC",
        "outputId": "b8496eb6-214c-43c4-aa99-d290cb700c97"
      },
      "outputs": [
        {
          "name": "stdout",
          "output_type": "stream",
          "text": [
            "Enter a number: 10\n",
            "Enter a number: 20\n",
            "Enter a number: 40\n",
            "Enter a number: 60\n",
            "Enter a number: done\n"
          ]
        }
      ],
      "source": [
        "total = 0\n",
        "count = 0\n",
        "while True :\n",
        "    inp = input('Enter a number: ')\n",
        "    if inp == 'done' : \n",
        "        break\n",
        "    value = float(inp)\n",
        "    total = total + value     \n",
        "    count = count + 1"
      ]
    },
    {
      "cell_type": "code",
      "execution_count": null,
      "metadata": {
        "id": "-NjaT1AdpxHD",
        "outputId": "cd920d1f-d68c-4c93-9625-8953b84625bd"
      },
      "outputs": [
        {
          "name": "stdout",
          "output_type": "stream",
          "text": [
            "4\n"
          ]
        }
      ],
      "source": [
        "print(count)"
      ]
    },
    {
      "cell_type": "code",
      "execution_count": null,
      "metadata": {
        "id": "aUrFoIMLpxHD",
        "outputId": "3ee77762-bbd8-4b34-cbd1-0dc5bbdbb9b8"
      },
      "outputs": [
        {
          "name": "stdout",
          "output_type": "stream",
          "text": [
            "130.0\n",
            "Average: 32.5\n"
          ]
        }
      ],
      "source": [
        "print(total)\n",
        "average = total / count\n",
        "print('Average:', average)"
      ]
    },
    {
      "cell_type": "code",
      "execution_count": null,
      "metadata": {
        "id": "i3xIdCGSpxHE",
        "outputId": "3f086ac6-1890-45db-f002-9944a5c06250"
      },
      "outputs": [
        {
          "data": {
            "text/plain": [
              "['From', 'salman.amir@gmail.com', 'Sat', 'Jan', '5', '09:14:16', '2020']"
            ]
          },
          "execution_count": 1,
          "metadata": {},
          "output_type": "execute_result"
        }
      ],
      "source": [
        "line = 'From salman.amir@gmail.com Sat Jan  5 09:14:16 2020'\n",
        "words = line.split()\n",
        "words"
      ]
    },
    {
      "cell_type": "code",
      "execution_count": null,
      "metadata": {
        "id": "tAYzXSUopxHE",
        "outputId": "a85468e7-bd96-4c3c-b587-d9ed52aa42c2"
      },
      "outputs": [
        {
          "name": "stdout",
          "output_type": "stream",
          "text": [
            "salman.amir@gmail.com\n"
          ]
        }
      ],
      "source": [
        "email = words[1]\n",
        "print(email)"
      ]
    },
    {
      "cell_type": "code",
      "execution_count": null,
      "metadata": {
        "id": "xqXcyMSupxHF",
        "outputId": "048db2bf-9fe1-433c-b5d3-e10871ee2780"
      },
      "outputs": [
        {
          "name": "stdout",
          "output_type": "stream",
          "text": [
            "gmail.com\n"
          ]
        }
      ],
      "source": [
        "pieces = email.split('@')\n",
        "print(pieces[1])"
      ]
    },
    {
      "cell_type": "code",
      "execution_count": null,
      "metadata": {
        "id": "e8oactjQpxHF",
        "outputId": "a22a4648-ab78-421c-aa95-3f0ccedb7deb"
      },
      "outputs": [
        {
          "name": "stdout",
          "output_type": "stream",
          "text": [
            "(123, 54, 92)\n",
            "()\n",
            "('Ala',)\n",
            "(2, 3, False, 'Arg', None)\n"
          ]
        }
      ],
      "source": [
        "a = (123, 54, 92) # tuple of 3 integers\n",
        "b = () # empty tuple\n",
        "c = (\"Ala\",) # tuple of a single string (note the trailing \",\")\n",
        "d = (2, 3, False, \"Arg\", None) # a tuple of mixed types\n",
        "\n",
        "print(a)\n",
        "print(b)\n",
        "print(c)\n",
        "print(d)"
      ]
    },
    {
      "cell_type": "code",
      "execution_count": null,
      "metadata": {
        "id": "TgJoB1QZpxHG",
        "outputId": "358d24da-3094-47c5-8306-99e0bccf3173"
      },
      "outputs": [
        {
          "name": "stdout",
          "output_type": "stream",
          "text": [
            "(1.2, -0.3, 0.9)\n"
          ]
        }
      ],
      "source": [
        "x = 1.2\n",
        "y = -0.3\n",
        "z = 0.9\n",
        "t = (x, y, z)\n",
        "\n",
        "print(t)"
      ]
    },
    {
      "cell_type": "code",
      "execution_count": null,
      "metadata": {
        "id": "guLUjZ9ZpxHG",
        "outputId": "0a48ed4d-1d84-4603-f4b1-0d8170ad1da1"
      },
      "outputs": [
        {
          "name": "stdout",
          "output_type": "stream",
          "text": [
            "t is (2, 3, 'Hi', [1, 2, 3])\n",
            "x is 2\n",
            "y is 3\n",
            "z is Hi\n",
            "a is [1, 2, 3]\n"
          ]
        }
      ],
      "source": [
        "l = 2, 3, \"Hi\", [1,2,3] # tuple packing\n",
        "print('t is', l)\n",
        "x, y, z, a = l # tuple unpacking\n",
        "print('x is', x)\n",
        "print('y is', y)\n",
        "print('z is', z)\n",
        "print('a is', a)"
      ]
    },
    {
      "cell_type": "code",
      "execution_count": null,
      "metadata": {
        "id": "lGz-ROTYpxHG",
        "outputId": "8feaee40-30d8-49d2-a41e-ab6b2bdb2d79"
      },
      "outputs": [
        {
          "name": "stdout",
          "output_type": "stream",
          "text": [
            "<class 'tuple'>\n"
          ]
        }
      ],
      "source": [
        "print(type(l))"
      ]
    },
    {
      "cell_type": "code",
      "execution_count": null,
      "metadata": {
        "id": "IaoTVY91pxHH",
        "outputId": "6e6c09a3-9e28-474c-c8f4-3ae053ca8d26"
      },
      "outputs": [
        {
          "data": {
            "text/plain": [
              "[1, 2, 3]"
            ]
          },
          "execution_count": 11,
          "metadata": {},
          "output_type": "execute_result"
        }
      ],
      "source": [
        "l[3]"
      ]
    },
    {
      "cell_type": "code",
      "execution_count": null,
      "metadata": {
        "id": "D284ux3DpxHH",
        "outputId": "2ad8d1d9-2919-496c-c710-8f76af089ab1"
      },
      "outputs": [
        {
          "name": "stdout",
          "output_type": "stream",
          "text": [
            "[1, 3, 9, 'Py', 217.213]\n",
            "['Python']\n",
            "[]\n"
          ]
        }
      ],
      "source": [
        "a = [1, 3, 9, 'Py', 217.213]\n",
        "b = [\"Python\"]\n",
        "c = []\n",
        "\n",
        "print(a)\n",
        "print(b)\n",
        "print(c)"
      ]
    },
    {
      "cell_type": "code",
      "execution_count": null,
      "metadata": {
        "id": "SdO13TjLpxHI",
        "outputId": "987ff713-b1b1-43fa-b216-5ffc92865070"
      },
      "outputs": [
        {
          "name": "stdout",
          "output_type": "stream",
          "text": [
            "12\n",
            "hi\n",
            "i23\n",
            "---\n",
            "[['12', 'hi'], ['i23', '---']]\n"
          ]
        }
      ],
      "source": [
        "matrix = [[input(),input()], [input(),input()]]\n",
        "print(matrix)"
      ]
    },
    {
      "cell_type": "code",
      "execution_count": null,
      "metadata": {
        "id": "ohi08ECcpxHI",
        "outputId": "39fbaba6-0f4c-466b-ae0b-1355cf088960"
      },
      "outputs": [
        {
          "name": "stdout",
          "output_type": "stream",
          "text": [
            "(1, 4, 9, 16)\n",
            "['A', 'B', 'C', 'd']\n",
            "[1, 4, 9, 16]\n",
            "('A', 'B', 'C', 'd')\n"
          ]
        }
      ],
      "source": [
        "a = (1, 4, 9, 16)     # A tuple of numbers\n",
        "b = ['A','B','C','d'] # A list of characters\n",
        "print(a)\n",
        "print(b)\n",
        "l = list(a)   # Make a list based on a tuple \n",
        "print(l)\n",
        "t = tuple(b)  # Make a tuple based on a list\n",
        "print(t)"
      ]
    },
    {
      "cell_type": "code",
      "execution_count": null,
      "metadata": {
        "id": "M28nPrLmpxHI",
        "outputId": "9f66555a-04a9-4f03-a912-39e9f0a0197b"
      },
      "outputs": [
        {
          "name": "stdout",
          "output_type": "stream",
          "text": [
            "1361258827928\n",
            "1361258854152\n",
            "1361258254088\n",
            "1361258755080\n"
          ]
        }
      ],
      "source": [
        "print(id(a))\n",
        "print(id(l))\n",
        "print(id(b))\n",
        "print(id(t))"
      ]
    },
    {
      "cell_type": "code",
      "execution_count": null,
      "metadata": {
        "id": "Xg7j0No0pxHJ",
        "outputId": "7fc42d0e-8584-43b9-a8d2-d1c4992ab557"
      },
      "outputs": [
        {
          "name": "stdout",
          "output_type": "stream",
          "text": [
            "t is (123, 54, 92, 87, 33)\n",
            "t[0] is 123\n",
            "t[2] is 92\n",
            "x is [123, 54, 92, 87, 33]\n",
            "x[-1] is 33\n"
          ]
        }
      ],
      "source": [
        "t = (123, 54, 92, 87, 33)\n",
        "x = [123, 54, 92, 87, 33]\n",
        "\n",
        "print('t is', t)\n",
        "print('t[0] is', t[0])\n",
        "print('t[2] is', t[2])\n",
        "\n",
        "print('x is', x)\n",
        "print('x[-1] is', x[-1])"
      ]
    },
    {
      "cell_type": "code",
      "execution_count": null,
      "metadata": {
        "id": "otJruBt6pxHJ",
        "outputId": "c8ceb70d-dcb3-46a0-c650-0c955709e091"
      },
      "outputs": [
        {
          "name": "stdout",
          "output_type": "stream",
          "text": [
            "t[1:3] is (54, 92)\n",
            "x[2:] is [92, 87, 33]\n",
            "x[:-1] is [123, 54, 92, 87]\n"
          ]
        }
      ],
      "source": [
        "t = (123, 54, 92, 87, 33)\n",
        "x = [123, 54, 92, 87, 33]\n",
        "print('t[1:3] is', t[1:3])\n",
        "print('x[2:] is', x[2:])\n",
        "print('x[:-1] is', x[:-1])"
      ]
    },
    {
      "cell_type": "code",
      "execution_count": null,
      "metadata": {
        "id": "__V9HV6BpxHJ",
        "outputId": "b46cd65e-05d6-4711-c69f-3993b3a090b2"
      },
      "outputs": [
        {
          "name": "stdout",
          "output_type": "stream",
          "text": [
            "123 in [123, 54, 92, 87, 33] True\n",
            "234 in (123, 54, 92, 87, 33) False\n",
            "999 not in [123, 54, 92, 87, 33] True\n"
          ]
        }
      ],
      "source": [
        "t = (123, 54, 92, 87, 33)\n",
        "x = [123, 54, 92, 87, 33]\n",
        "print('123 in', x, 123 in x)\n",
        "print('234 in', t, 234 in t)\n",
        "print('999 not in', x, 999 not in x)"
      ]
    },
    {
      "cell_type": "code",
      "execution_count": null,
      "metadata": {
        "id": "56sJ8h-QpxHJ",
        "outputId": "506ca5e2-b34c-4027-97fc-50bb78e330d9"
      },
      "outputs": [
        {
          "data": {
            "text/plain": [
              "[3, 4, 5]"
            ]
          },
          "execution_count": 19,
          "metadata": {},
          "output_type": "execute_result"
        }
      ],
      "source": [
        "a = [1, 2, 3, 4, 5]\n",
        "\n",
        "a[2:]"
      ]
    },
    {
      "cell_type": "code",
      "execution_count": null,
      "metadata": {
        "id": "SrXcmrkRpxHK",
        "outputId": "ee37a7b6-3d3e-4825-b1c6-5590a1e84445"
      },
      "outputs": [
        {
          "name": "stdout",
          "output_type": "stream",
          "text": [
            "length of t is 5\n",
            "number of 33s in x is 1\n"
          ]
        }
      ],
      "source": [
        "t = (123, 54, 92, 87, 33)\n",
        "x = [123, 54, 92, 87, 33]\n",
        "print(\"length of t is\", len(t))\n",
        "print(\"number of 33s in x is\", x.count(33))"
      ]
    },
    {
      "cell_type": "code",
      "execution_count": null,
      "metadata": {
        "id": "ZQQPAChjpxHK",
        "outputId": "72a51da7-f372-4380-f1a8-2a2f40274cf9"
      },
      "outputs": [
        {
          "name": "stdout",
          "output_type": "stream",
          "text": [
            "[123, 54, 92, 87, 33]\n",
            "[123, 54, 33, 87, 33]\n"
          ]
        }
      ],
      "source": [
        "x = [123, 54, 92, 87, 33]\n",
        "print(x)\n",
        "x[2] = 33\n",
        "print(x)"
      ]
    },
    {
      "cell_type": "code",
      "execution_count": null,
      "metadata": {
        "id": "skPGm29PpxHK",
        "outputId": "d1d2efc7-b3f0-48d6-8fa2-3c0cb081253e"
      },
      "outputs": [
        {
          "name": "stdout",
          "output_type": "stream",
          "text": [
            "(123, 54, 92, 87, 33)\n"
          ]
        },
        {
          "ename": "TypeError",
          "evalue": "'tuple' object does not support item assignment",
          "output_type": "error",
          "traceback": [
            "\u001b[1;31m---------------------------------------------------------------------------\u001b[0m",
            "\u001b[1;31mTypeError\u001b[0m                                 Traceback (most recent call last)",
            "\u001b[1;32m<ipython-input-22-8b8ecaf23c21>\u001b[0m in \u001b[0;36m<module>\u001b[1;34m\u001b[0m\n\u001b[0;32m      1\u001b[0m \u001b[0mt\u001b[0m \u001b[1;33m=\u001b[0m \u001b[1;33m(\u001b[0m\u001b[1;36m123\u001b[0m\u001b[1;33m,\u001b[0m \u001b[1;36m54\u001b[0m\u001b[1;33m,\u001b[0m \u001b[1;36m92\u001b[0m\u001b[1;33m,\u001b[0m \u001b[1;36m87\u001b[0m\u001b[1;33m,\u001b[0m \u001b[1;36m33\u001b[0m\u001b[1;33m)\u001b[0m\u001b[1;33m\u001b[0m\u001b[1;33m\u001b[0m\u001b[0m\n\u001b[0;32m      2\u001b[0m \u001b[0mprint\u001b[0m\u001b[1;33m(\u001b[0m\u001b[0mt\u001b[0m\u001b[1;33m)\u001b[0m\u001b[1;33m\u001b[0m\u001b[1;33m\u001b[0m\u001b[0m\n\u001b[1;32m----> 3\u001b[1;33m \u001b[0mt\u001b[0m\u001b[1;33m[\u001b[0m\u001b[1;36m1\u001b[0m\u001b[1;33m]\u001b[0m \u001b[1;33m=\u001b[0m \u001b[1;36m4\u001b[0m\u001b[1;33m\u001b[0m\u001b[1;33m\u001b[0m\u001b[0m\n\u001b[0m",
            "\u001b[1;31mTypeError\u001b[0m: 'tuple' object does not support item assignment"
          ]
        }
      ],
      "source": [
        "t = (123, 54, 92, 87, 33)\n",
        "print(t)\n",
        "t[1] = 4"
      ]
    },
    {
      "cell_type": "code",
      "execution_count": null,
      "metadata": {
        "id": "6FGzLcbcpxHK",
        "outputId": "538b3db3-15d0-47f7-f9fa-fa27e658546d"
      },
      "outputs": [
        {
          "name": "stdout",
          "output_type": "stream",
          "text": [
            "[123, 54, 92, 87, 33, 101]\n"
          ]
        }
      ],
      "source": [
        "x = [123, 54, 92, 87, 33]\n",
        "x.append(101)\n",
        "print(x)"
      ]
    },
    {
      "cell_type": "code",
      "execution_count": null,
      "metadata": {
        "id": "Y8i56hdrpxHL",
        "outputId": "5b713384-6156-43eb-9e8f-976976bc9d71"
      },
      "outputs": [
        {
          "name": "stdout",
          "output_type": "stream",
          "text": [
            "[123, 54, 92, 1111, 87, 33]\n"
          ]
        }
      ],
      "source": [
        "x = [123, 54, 92, 87, 33]\n",
        "x.insert(3, 1111)\n",
        "print(x)"
      ]
    },
    {
      "cell_type": "code",
      "execution_count": null,
      "metadata": {
        "id": "SGo7r7zXpxHL",
        "outputId": "fe40f431-6fc6-45e3-da8b-3c8268709393"
      },
      "outputs": [
        {
          "name": "stdout",
          "output_type": "stream",
          "text": [
            "[54, 92, 87, 33]\n"
          ]
        }
      ],
      "source": [
        "x = [123, 54, 92, 87, 33]\n",
        "x.remove(123)\n",
        "print(x)"
      ]
    },
    {
      "cell_type": "code",
      "execution_count": null,
      "metadata": {
        "id": "P5vR9iYWpxHL",
        "outputId": "8b078e82-794c-4b00-f1f6-19cc38b574b8"
      },
      "outputs": [
        {
          "name": "stdout",
          "output_type": "stream",
          "text": [
            "[123, 54, 92, 87, 33]\n",
            "[54, 92, 87, 33]\n"
          ]
        }
      ],
      "source": [
        "x = [123, 54, 92, 87, 33]\n",
        "print(x)\n",
        "del x[0]\n",
        "print(x)"
      ]
    },
    {
      "cell_type": "code",
      "execution_count": null,
      "metadata": {
        "id": "sZtSYoCqpxHM",
        "outputId": "bbf09462-34aa-4aaf-a91b-58d4df75be50"
      },
      "outputs": [
        {
          "name": "stdout",
          "output_type": "stream",
          "text": [
            "[1, 2, 3, 4, 5, 6]\n",
            "[1, 2, 3, 4, 5, 6, [4, 5, 6]]\n",
            "[1, 2, 3, 4, 5, 6, [4, 5, 6], 'Hi']\n"
          ]
        }
      ],
      "source": [
        "a = [1,2,3]\n",
        "b = [4,5,6]\n",
        "c = \"Hi\"\n",
        "a.extend(b)\n",
        "print(a)\n",
        "a.append(b)\n",
        "print(a)\n",
        "a.append(c)\n",
        "print(a)"
      ]
    },
    {
      "cell_type": "code",
      "execution_count": null,
      "metadata": {
        "id": "JnSHK3RKpxHM",
        "outputId": "00ec563b-3cf2-475e-d00a-f5b0e7ace258"
      },
      "outputs": [
        {
          "name": "stdout",
          "output_type": "stream",
          "text": [
            "[1, 2, 3, 4, 5, 6]\n"
          ]
        }
      ],
      "source": [
        "a = [1, 2, 3]\n",
        "b = [4, 5, 6]\n",
        "a = a + b\n",
        "print(a)"
      ]
    },
    {
      "cell_type": "code",
      "execution_count": null,
      "metadata": {
        "id": "Y91p2D82pxHM",
        "outputId": "7b14e012-c1fb-4df3-ed43-83b174263e69"
      },
      "outputs": [
        {
          "name": "stdout",
          "output_type": "stream",
          "text": [
            "[1, ([9, 9, 9, 9], [9, 9, 9, 9], [9, 9, 9, 9], [9, 9, 9, 9]), 3, 4, 5, 6]\n"
          ]
        }
      ],
      "source": [
        "a = [1, 2, 3, 4, 5, 6]\n",
        "a[1] = [9, 9, 9, 9],[9, 9, 9, 9],[9, 9, 9, 9],[9, 9, 9, 9]\n",
        "print(a)"
      ]
    },
    {
      "cell_type": "code",
      "execution_count": null,
      "metadata": {
        "id": "8z09WO8YpxHN"
      },
      "outputs": [],
      "source": [
        "x,y,z = 10,20,30"
      ]
    },
    {
      "cell_type": "code",
      "execution_count": null,
      "metadata": {
        "id": "FiL2xsoZpxHN",
        "outputId": "1a0749e0-fcdf-4b07-8f03-4ec11d6607d8"
      },
      "outputs": [
        {
          "name": "stdout",
          "output_type": "stream",
          "text": [
            "[2, 4, 6, 5, 3, 1]\n",
            "[1, 2, 3, 4, 5, 6]\n",
            "None\n"
          ]
        }
      ],
      "source": [
        "a = [1, 3, 5,6, 4, 2]\n",
        "a.reverse()\n",
        "print(a)\n",
        "b = []\n",
        "b = a.sort()\n",
        "print(a)\n",
        "print(b)"
      ]
    },
    {
      "cell_type": "code",
      "execution_count": null,
      "metadata": {
        "id": "AOTYWRu_pxHO",
        "outputId": "999e5b2d-2538-494f-f9d8-251362c48f8e"
      },
      "outputs": [
        {
          "name": "stdout",
          "output_type": "stream",
          "text": [
            "[2, 5, 7, 1]\n",
            "[1, 2, 5, 7]\n"
          ]
        }
      ],
      "source": [
        "a = [2, 5, 7, 1]\n",
        "b = sorted(a)\n",
        "print(a)\n",
        "print(b)"
      ]
    },
    {
      "cell_type": "code",
      "execution_count": null,
      "metadata": {
        "id": "ywhdMy_WpxHP",
        "outputId": "a8c4fe81-d293-4b2a-843a-04ee247d7d47"
      },
      "outputs": [
        {
          "name": "stdout",
          "output_type": "stream",
          "text": [
            "A\n",
            "G\n",
            "ABCDEF\n",
            "True\n",
            "False\n",
            "8\n"
          ]
        }
      ],
      "source": [
        "text = \"ABCDEFGH\"\n",
        "print(text[0])\n",
        "print(text[-2])\n",
        "print(text[0:6])\n",
        "print(\"EFG\" in text)\n",
        "print(\"ABBC\" in text)\n",
        "print(len(text))"
      ]
    },
    {
      "cell_type": "code",
      "execution_count": null,
      "metadata": {
        "id": "jjlHfJEYpxHP",
        "outputId": "4745ffb3-38ad-42f0-d772-e4c1605ac3d6"
      },
      "outputs": [
        {
          "ename": "TypeError",
          "evalue": "'str' object does not support item assignment",
          "output_type": "error",
          "traceback": [
            "\u001b[1;31m---------------------------------------------------------------------------\u001b[0m",
            "\u001b[1;31mTypeError\u001b[0m                                 Traceback (most recent call last)",
            "\u001b[1;32m<ipython-input-8-578c70ad8e93>\u001b[0m in \u001b[0;36m<module>\u001b[1;34m\u001b[0m\n\u001b[0;32m      1\u001b[0m \u001b[0mtext\u001b[0m \u001b[1;33m=\u001b[0m \u001b[1;34m\"ABCDEFGH\"\u001b[0m\u001b[1;33m\u001b[0m\u001b[1;33m\u001b[0m\u001b[0m\n\u001b[1;32m----> 2\u001b[1;33m \u001b[0mtext\u001b[0m\u001b[1;33m[\u001b[0m\u001b[1;36m0\u001b[0m\u001b[1;33m:\u001b[0m\u001b[1;36m2\u001b[0m\u001b[1;33m]\u001b[0m \u001b[1;33m=\u001b[0m \u001b[1;34m\"CCC\"\u001b[0m\u001b[1;33m\u001b[0m\u001b[1;33m\u001b[0m\u001b[0m\n\u001b[0m",
            "\u001b[1;31mTypeError\u001b[0m: 'str' object does not support item assignment"
          ]
        }
      ],
      "source": [
        "text = \"ABCDEFGH\"\n",
        "text[0:2] = \"CCC\" "
      ]
    },
    {
      "cell_type": "code",
      "execution_count": null,
      "metadata": {
        "id": "wvouVxI0pxHQ",
        "outputId": "fd1369e8-f3e0-4108-9836-9cb765ca4d4a"
      },
      "outputs": [
        {
          "name": "stdout",
          "output_type": "stream",
          "text": [
            "CDE is at position: 2\n",
            "CDE is at position: 8\n",
            "The last C is at position: 8\n"
          ]
        }
      ],
      "source": [
        "string = \"ABCDEDCBCDEA\"\n",
        "index = string.find(\"CDE\")\n",
        "print(\"CDE is at position:\", index)\n",
        "index = string.rfind(\"CDE\")\n",
        "print(\"CDE is at position:\", index)\n",
        "index = string.rfind('C')\n",
        "print(\"The last C is at position:\", index)"
      ]
    },
    {
      "cell_type": "code",
      "execution_count": null,
      "metadata": {
        "id": "s6x5zQBOpxHQ",
        "outputId": "296234d3-5767-4507-e7d1-59f1d722078a"
      },
      "outputs": [
        {
          "name": "stdout",
          "output_type": "stream",
          "text": [
            "27 .      My name is Python      .\n",
            "22 .      My name is Python .\n",
            "22 . My name is Python      .\n",
            "17 . My name is Python .\n"
          ]
        }
      ],
      "source": [
        "s = \"     My name is Python     \"\n",
        "print(len(s), \".\", s, \".\")\n",
        "print(len(s.rstrip()), \".\", s.rstrip(), \".\")\n",
        "print(len(s.lstrip()), \".\", s.lstrip(), \".\")\n",
        "print(len(s.strip()), \".\", s.strip(),\".\")"
      ]
    },
    {
      "cell_type": "code",
      "execution_count": null,
      "metadata": {
        "id": "hAsk8KLBpxHR"
      },
      "outputs": [],
      "source": [
        "string = \"My name is Python\"\n",
        "words = string.split(\" \")\n",
        "print(words)\n",
        "\n",
        "letters = list(string) # a tuple of character converted into a list\n",
        "print(letters)"
      ]
    },
    {
      "cell_type": "code",
      "execution_count": null,
      "metadata": {
        "id": "KaFGNT-JpxHR"
      },
      "outputs": [],
      "source": [
        "string = \"My name is Python\"\n",
        "words = string.split(\" \")\n",
        "print(words)\n",
        "print(\"|\".join(words))"
      ]
    },
    {
      "cell_type": "code",
      "execution_count": null,
      "metadata": {
        "id": "fZtd1_jupxHR"
      },
      "outputs": [],
      "source": [
        "language = \"Python\"\n",
        "version = 3.6\n",
        "print(language + str(version))"
      ]
    },
    {
      "cell_type": "code",
      "execution_count": null,
      "metadata": {
        "id": "SHxWBPotpxHR"
      },
      "outputs": [],
      "source": [
        "l = [1, 2, 3, 2, 3] # list of 5 values\n",
        "s = set(l) # set of 3 unique values\n",
        "print(s)\n",
        "e = set() # empty set\n",
        "print(e)"
      ]
    },
    {
      "cell_type": "code",
      "execution_count": null,
      "metadata": {
        "id": "tE8dfa4bpxHS"
      },
      "outputs": [],
      "source": [
        "s = set([1, 2, 3, 2, 3])\n",
        "print(s)\n",
        "print(\"number in set:\", len(s))\n",
        "s.add(4)\n",
        "print(s)\n",
        "s.add(3)\n",
        "print(s)"
      ]
    },
    {
      "cell_type": "code",
      "execution_count": null,
      "metadata": {
        "id": "8DmICyCNpxHS"
      },
      "outputs": [],
      "source": [
        "s = set([1, 2, 3, 2, 3])\n",
        "print(s)\n",
        "s.remove(3)\n",
        "print(s)"
      ]
    },
    {
      "cell_type": "code",
      "execution_count": null,
      "metadata": {
        "id": "a6eXQt8SpxHS"
      },
      "outputs": [],
      "source": [
        "s1 = set([2, 4, 6, 8, 10])\n",
        "s2 = set([4, 5, 6, 7])\n",
        "\n",
        "print(\"Union:\", s1 | s2)\n",
        "print(\"Intersection:\", s1 & s2)"
      ]
    },
    {
      "cell_type": "code",
      "execution_count": null,
      "metadata": {
        "id": "8EWUFh6_pxHS"
      },
      "outputs": [],
      "source": [
        "sports = {\"A\": \"Cricket\", \"B\": \"Football\", \"C\": \"Hockey\", \"D\": \"Badminton\"}\n",
        "print(sports)\n",
        "\n",
        "sports['C']"
      ]
    },
    {
      "cell_type": "code",
      "execution_count": null,
      "metadata": {
        "id": "tTITkR3qpxHS"
      },
      "outputs": [],
      "source": [
        "sports = {\"A\": \"Cricket\", \"B\": \"Football\", \"C\": \"Hockey\", \"D\": \"Badminton\"}\n",
        "print(\"A represents\", sports[\"A\"])\n",
        "print(\"G represents\", sports[\"G\"])"
      ]
    },
    {
      "cell_type": "code",
      "execution_count": null,
      "metadata": {
        "id": "gUpAI_CEpxHT"
      },
      "outputs": [],
      "source": [
        "sports = {\"A\": \"Cricket\", \"B\": \"Football\", \"C\": \"Hockey\", \"D\": \"Badminton\"}\n",
        "print(\"What about N?\", sports[\"N\"])"
      ]
    },
    {
      "cell_type": "code",
      "execution_count": null,
      "metadata": {
        "id": "K5N2hiMlpxHT"
      },
      "outputs": [],
      "source": [
        "sports = {\"A\": \"Cricket\", \"B\": \"Football\", \"C\": \"Hockey\", \"D\": \"Badminton\"}\n",
        "print(\"What about N?\", sports.get(\"N\"))\n",
        "print(\"With a default value:\", sports.get(\"N\", \"asfasfasf\"))"
      ]
    },
    {
      "cell_type": "code",
      "execution_count": null,
      "metadata": {
        "id": "xhRL-IbXpxHT"
      },
      "outputs": [],
      "source": [
        "sports = {\"A\": \"Cricket\", \"B\": \"Football\", \"C\": \"Hockey\", \"D\": \"Badminton\"}\n",
        "\"T\" in sports"
      ]
    },
    {
      "cell_type": "code",
      "execution_count": null,
      "metadata": {
        "id": "zg4nGX_9pxHT"
      },
      "outputs": [],
      "source": [
        "sports = {\"A\": \"Cricket\", \"B\": \"Football\", \"C\": \"Hockey\", \"D\": \"Badminton\"}\n",
        "\"Y\" not in sports"
      ]
    },
    {
      "cell_type": "code",
      "execution_count": null,
      "metadata": {
        "id": "sZD-qZSipxHT"
      },
      "outputs": [],
      "source": [
        "sports = {\"A\": \"Cricket\", \"B\": \"Football\", \"C\": \"Hockey\", \"D\": \"Badminton\"}\n",
        "print(len(sports))"
      ]
    },
    {
      "cell_type": "code",
      "execution_count": null,
      "metadata": {
        "id": "WyXaBcwcpxHU"
      },
      "outputs": [],
      "source": [
        "sports = {\"A\": \"Cricket\", \"B\": \"Football\", \"C\": \"Hockey\", \"D\": \"Badminton\"}\n",
        "sports['E'] = 'Kabaddi'\n",
        "print(sports)"
      ]
    },
    {
      "cell_type": "code",
      "execution_count": null,
      "metadata": {
        "id": "SKmZA6xjpxHU"
      },
      "outputs": [],
      "source": [
        "sports = {\"A\": \"Cricket\", \"B\": \"Football\", \"C\": \"Hockey\", \"D\": \"Badminton\", \"E\": \"Kabaddi\"}\n",
        "sports['F'] = 'Volley Ball'\n",
        "print(sports)"
      ]
    },
    {
      "cell_type": "code",
      "execution_count": null,
      "metadata": {
        "id": "X3HthS-spxHU"
      },
      "outputs": [],
      "source": [
        "sports = {\"A\": \"Cricket\", \"B\": \"Football\", \"C\": \"Hockey\", \"D\": \"Badminton\", \"E\": \"Kabaddi\", 'F': 'Volley Ball'}\n",
        "del sports['F']\n",
        "print(sports)"
      ]
    },
    {
      "cell_type": "code",
      "execution_count": null,
      "metadata": {
        "id": "TlPvZbePpxHU"
      },
      "outputs": [],
      "source": [
        "sports = {\"A\": \"Cricket\", \"B\": \"Football\", \"C\": \"Hockey\", \"D\": \"Badminton\", \"E\": \"Kabaddi\"}\n",
        "print(list(sports.keys()))"
      ]
    },
    {
      "cell_type": "code",
      "execution_count": null,
      "metadata": {
        "id": "sjxRFc_tpxHU"
      },
      "outputs": [],
      "source": [
        "sports = {\"A\": \"Cricket\", \"B\": \"Football\", \"C\": \"Hockey\", \"D\": \"Badminton\", \"E\": \"Kabaddi\"}\n",
        "print(list(sports.values()))"
      ]
    },
    {
      "cell_type": "code",
      "execution_count": null,
      "metadata": {
        "id": "k8qYFFj9pxHV"
      },
      "outputs": [],
      "source": [
        "sports = {\"A\": \"Cricket\", \"B\": \"Football\", \"C\": \"Hockey\", \"D\": \"Badminton\", \"E\": \"Kabaddi\"}\n",
        "print(list(sports.items()))"
      ]
    }
  ],
  "metadata": {
    "kernelspec": {
      "display_name": "Python 3",
      "language": "python",
      "name": "python3"
    },
    "language_info": {
      "codemirror_mode": {
        "name": "ipython",
        "version": 3
      },
      "file_extension": ".py",
      "mimetype": "text/x-python",
      "name": "python",
      "nbconvert_exporter": "python",
      "pygments_lexer": "ipython3",
      "version": "3.7.10"
    },
    "colab": {
      "name": "List-Tuple-String.ipynb",
      "provenance": [],
      "include_colab_link": true
    }
  },
  "nbformat": 4,
  "nbformat_minor": 0
}
