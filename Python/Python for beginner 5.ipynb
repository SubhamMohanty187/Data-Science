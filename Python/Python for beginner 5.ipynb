{
 "cells": [
  {
   "cell_type": "markdown",
   "id": "cd7dc4a3",
   "metadata": {},
   "source": [
    "# 5. Data Structures"
   ]
  },
  {
   "cell_type": "markdown",
   "id": "54d5746e",
   "metadata": {},
   "source": [
    "## 1. Lists"
   ]
  },
  {
   "cell_type": "code",
   "execution_count": 4,
   "id": "16e2ee02",
   "metadata": {},
   "outputs": [
    {
     "name": "stdout",
     "output_type": "stream",
     "text": [
      "['a', 'b', 'c']\n",
      "[[0, 1], [2, 0]]\n"
     ]
    }
   ],
   "source": [
    "letters = ['a','b','c']\n",
    "matrix = [[0,1],[2,0]]\n",
    "print(letters)\n",
    "print(matrix)\n"
   ]
  },
  {
   "cell_type": "code",
   "execution_count": 2,
   "id": "e237ba13",
   "metadata": {},
   "outputs": [
    {
     "name": "stdout",
     "output_type": "stream",
     "text": [
      "[0, 0, 0, 0, 0, 0, 0, 0, 0, 0]\n"
     ]
    }
   ],
   "source": [
    "zeros = [0] * 10\n",
    "print(zeros)"
   ]
  },
  {
   "cell_type": "code",
   "execution_count": 3,
   "id": "be370e9a",
   "metadata": {},
   "outputs": [
    {
     "name": "stdout",
     "output_type": "stream",
     "text": [
      "[1, 1, 1, 1, 1, 'a', 'b', 'c']\n"
     ]
    }
   ],
   "source": [
    "letters = ['a','b','c']\n",
    "zeros = [1] * 5 \n",
    "combined = zeros + letters\n",
    "print(combined)"
   ]
  },
  {
   "cell_type": "code",
   "execution_count": 6,
   "id": "a3bca42b",
   "metadata": {
    "scrolled": false
   },
   "outputs": [
    {
     "name": "stdout",
     "output_type": "stream",
     "text": [
      "0 1 2 3 4 5 6 7 8 9 10 11 12 13 14 15 16 17 18 19 20 21 22 23 24 25 26 27 28 29 "
     ]
    }
   ],
   "source": [
    "#numbers = range(30)\n",
    "#print(numbers)\n",
    "for x in range(30):\n",
    "    print(x,end = \" \") \n",
    "    \n"
   ]
  },
  {
   "cell_type": "code",
   "execution_count": 9,
   "id": "7a94c912",
   "metadata": {},
   "outputs": [
    {
     "name": "stdout",
     "output_type": "stream",
     "text": [
      "[0, 1, 2, 3, 4, 5, 6, 7, 8, 9, 10, 11, 12, 13, 14, 15, 16, 17, 18, 19, 20, 21, 22, 23, 24, 25, 26, 27, 28, 29]\n"
     ]
    }
   ],
   "source": [
    "#total = 0\n",
    "\n",
    "x = list(range(30))\n",
    "print(x)\n"
   ]
  },
  {
   "cell_type": "code",
   "execution_count": 10,
   "id": "bf603931",
   "metadata": {},
   "outputs": [
    {
     "name": "stdout",
     "output_type": "stream",
     "text": [
      "0 1 2 3 4 5 6 7 8 9 10 11 12 13 14 15 16 17 18 19 20 21 22 23 24 25 26 27 28 29 "
     ]
    }
   ],
   "source": [
    "for i in range(30):\n",
    "    print(i,end = \" \")\n",
    "         "
   ]
  },
  {
   "cell_type": "code",
   "execution_count": 15,
   "id": "a0cc339c",
   "metadata": {
    "scrolled": true
   },
   "outputs": [
    {
     "name": "stdout",
     "output_type": "stream",
     "text": [
      "['h', 'i', 'i', ' ', 's', 'i', 'r']\n",
      "7\n"
     ]
    }
   ],
   "source": [
    "x = list('''hii sir''') #list are iterable\n",
    "print(x)\n",
    "print(len(x))"
   ]
  },
  {
   "cell_type": "code",
   "execution_count": 19,
   "id": "8e658140",
   "metadata": {},
   "outputs": [
    {
     "name": "stdout",
     "output_type": "stream",
     "text": [
      "['sabyasachi', 'mohanty']\n"
     ]
    }
   ],
   "source": [
    "y = list((\"sabyasachi\",\"mohanty\"))    #list((),())-----wrong, list((hhhbh,jhbjhbhb,gvhgv,hgvhgv,gfvgg))----right\n",
    "print(y)"
   ]
  },
  {
   "cell_type": "markdown",
   "id": "a1a993cc",
   "metadata": {},
   "source": [
    "## 2. Accessing Items"
   ]
  },
  {
   "cell_type": "code",
   "execution_count": 20,
   "id": "7685b77c",
   "metadata": {
    "scrolled": true
   },
   "outputs": [
    {
     "name": "stdout",
     "output_type": "stream",
     "text": [
      "d\n"
     ]
    }
   ],
   "source": [
    "letters = ['a','b','c','d']\n",
    "print(letters[3])"
   ]
  },
  {
   "cell_type": "code",
   "execution_count": 11,
   "id": "9eee9d0b",
   "metadata": {},
   "outputs": [
    {
     "name": "stdout",
     "output_type": "stream",
     "text": [
      "d\n"
     ]
    }
   ],
   "source": [
    "letters = ['a','b','c','d']\n",
    "print(letters[-1])"
   ]
  },
  {
   "cell_type": "code",
   "execution_count": 12,
   "id": "d2266db1",
   "metadata": {},
   "outputs": [
    {
     "name": "stdout",
     "output_type": "stream",
     "text": [
      "['a', 'b', 'c', 4]\n"
     ]
    }
   ],
   "source": [
    "letters = ['a','b','c','d']\n",
    "letters[3] = 4\n",
    "print(letters)"
   ]
  },
  {
   "cell_type": "code",
   "execution_count": 13,
   "id": "b68f4582",
   "metadata": {},
   "outputs": [
    {
     "name": "stdout",
     "output_type": "stream",
     "text": [
      "['A', 'b', 'c']\n",
      "['A', 'b', 'c', 'd']\n"
     ]
    },
    {
     "data": {
      "text/plain": [
       "['A', 'c']"
      ]
     },
     "execution_count": 13,
     "metadata": {},
     "output_type": "execute_result"
    }
   ],
   "source": [
    "letters = ['a','b','c','d']\n",
    "letters[0] = 'A'\n",
    "print(letters[0:3])\n",
    "print(letters[0:])\n",
    "letters[::2]\n",
    "\n"
   ]
  },
  {
   "cell_type": "code",
   "execution_count": 14,
   "id": "8df9dbbb",
   "metadata": {},
   "outputs": [
    {
     "name": "stdout",
     "output_type": "stream",
     "text": [
      "[0, 1, 2, 3, 4, 5, 6, 7, 8, 9, 10, 11, 12, 13, 14, 15, 16, 17, 18, 19]\n"
     ]
    }
   ],
   "source": [
    "num = list(range(20))\n",
    "print(num)"
   ]
  },
  {
   "cell_type": "code",
   "execution_count": 23,
   "id": "3d44ef71",
   "metadata": {},
   "outputs": [
    {
     "name": "stdout",
     "output_type": "stream",
     "text": [
      "[19, 17, 15, 13, 11, 9, 7, 5, 3, 1]\n",
      "[19, 18, 17, 16, 15, 14, 13, 12, 11, 10, 9, 8, 7, 6, 5, 4, 3, 2, 1, 0]\n"
     ]
    }
   ],
   "source": [
    "num = list(range(20))\n",
    "print(num[::-2])\n",
    "print(num[::-1])"
   ]
  },
  {
   "cell_type": "markdown",
   "id": "705d8fba",
   "metadata": {},
   "source": [
    "## 3. Looping over Lists"
   ]
  },
  {
   "cell_type": "code",
   "execution_count": 16,
   "id": "b58e43e8",
   "metadata": {},
   "outputs": [
    {
     "name": "stdout",
     "output_type": "stream",
     "text": [
      "0 a\n",
      "1 b\n",
      "2 c\n"
     ]
    }
   ],
   "source": [
    "letters = ['a','b','c']\n",
    "for letter in enumerate(letters):\n",
    "    print(letter[0],letter[1])\n",
    "            "
   ]
  },
  {
   "cell_type": "code",
   "execution_count": 17,
   "id": "3df2188c",
   "metadata": {},
   "outputs": [
    {
     "name": "stdout",
     "output_type": "stream",
     "text": [
      "0 a\n",
      "1 b\n",
      "2 c\n"
     ]
    }
   ],
   "source": [
    "letters = ['a','b','c']\n",
    "\n",
    "for index, letter in enumerate(letters):\n",
    "    print(index,letter)"
   ]
  },
  {
   "cell_type": "markdown",
   "id": "36cca287",
   "metadata": {},
   "source": [
    "## 4. Adding/ removing Items"
   ]
  },
  {
   "cell_type": "code",
   "execution_count": 27,
   "id": "2b5025cc",
   "metadata": {},
   "outputs": [
    {
     "name": "stdout",
     "output_type": "stream",
     "text": [
      "['a', 'b', 'c', 'd', 'e', 'f', 'e']\n"
     ]
    }
   ],
   "source": [
    "letters = ['a','b','c','d','e','f']\n",
    "letters.append('e')\n",
    "print(letters)"
   ]
  },
  {
   "cell_type": "code",
   "execution_count": 25,
   "id": "85be15c4",
   "metadata": {},
   "outputs": [
    {
     "name": "stdout",
     "output_type": "stream",
     "text": [
      "['divineai', 'a', 'b', 'c', 'd', 'e']\n"
     ]
    }
   ],
   "source": [
    "letters = ['a','b','c','d','e']\n",
    "letters.insert(0,'divineai')\n",
    "print(letters)"
   ]
  },
  {
   "cell_type": "code",
   "execution_count": 20,
   "id": "a93c3655",
   "metadata": {},
   "outputs": [
    {
     "data": {
      "text/plain": [
       "['divineai', 'a', 'b', 'd', 'e']"
      ]
     },
     "execution_count": 20,
     "metadata": {},
     "output_type": "execute_result"
    }
   ],
   "source": [
    "letters.pop(3)\n",
    "letters"
   ]
  },
  {
   "cell_type": "code",
   "execution_count": 21,
   "id": "6e2c4f34",
   "metadata": {},
   "outputs": [
    {
     "data": {
      "text/plain": [
       "['divineai', 'a', 'b', 'e']"
      ]
     },
     "execution_count": 21,
     "metadata": {},
     "output_type": "execute_result"
    }
   ],
   "source": [
    "letters.pop(3)\n",
    "letters"
   ]
  },
  {
   "cell_type": "code",
   "execution_count": 22,
   "id": "e8af9922",
   "metadata": {},
   "outputs": [
    {
     "data": {
      "text/plain": [
       "['a', 'c', 'd']"
      ]
     },
     "execution_count": 22,
     "metadata": {},
     "output_type": "execute_result"
    }
   ],
   "source": [
    "names = ['a','b','c','d']\n",
    "names.remove(\"b\")\n",
    "names\n"
   ]
  },
  {
   "cell_type": "code",
   "execution_count": 23,
   "id": "b78025a5",
   "metadata": {},
   "outputs": [
    {
     "ename": "NameError",
     "evalue": "name 'xyz' is not defined",
     "output_type": "error",
     "traceback": [
      "\u001b[0;31m---------------------------------------------------------------------------\u001b[0m",
      "\u001b[0;31mNameError\u001b[0m                                 Traceback (most recent call last)",
      "\u001b[0;32m<ipython-input-23-e7283fe99251>\u001b[0m in \u001b[0;36m<module>\u001b[0;34m\u001b[0m\n\u001b[1;32m      1\u001b[0m \u001b[0mxyz\u001b[0m \u001b[0;34m=\u001b[0m \u001b[0;34m[\u001b[0m\u001b[0;36m1\u001b[0m\u001b[0;34m,\u001b[0m\u001b[0;36m2\u001b[0m\u001b[0;34m,\u001b[0m\u001b[0;36m3\u001b[0m\u001b[0;34m,\u001b[0m\u001b[0;36m4\u001b[0m\u001b[0;34m,\u001b[0m\u001b[0;36m45\u001b[0m\u001b[0;34m]\u001b[0m\u001b[0;34m\u001b[0m\u001b[0;34m\u001b[0m\u001b[0m\n\u001b[1;32m      2\u001b[0m \u001b[0;32mdel\u001b[0m \u001b[0mxyz\u001b[0m\u001b[0;34m\u001b[0m\u001b[0;34m\u001b[0m\u001b[0m\n\u001b[0;32m----> 3\u001b[0;31m \u001b[0mxyz\u001b[0m\u001b[0;34m\u001b[0m\u001b[0;34m\u001b[0m\u001b[0m\n\u001b[0m",
      "\u001b[0;31mNameError\u001b[0m: name 'xyz' is not defined"
     ]
    }
   ],
   "source": [
    "xyz = [1,2,3,4,45]\n",
    "del xyz\n",
    "xyz"
   ]
  },
  {
   "cell_type": "code",
   "execution_count": 24,
   "id": "4dd7c67a",
   "metadata": {},
   "outputs": [
    {
     "ename": "NameError",
     "evalue": "name 'xyz' is not defined",
     "output_type": "error",
     "traceback": [
      "\u001b[0;31m---------------------------------------------------------------------------\u001b[0m",
      "\u001b[0;31mNameError\u001b[0m                                 Traceback (most recent call last)",
      "\u001b[0;32m<ipython-input-24-b6499aa2e891>\u001b[0m in \u001b[0;36m<module>\u001b[0;34m\u001b[0m\n\u001b[0;32m----> 1\u001b[0;31m \u001b[0mprint\u001b[0m\u001b[0;34m(\u001b[0m\u001b[0mxyz\u001b[0m\u001b[0;34m)\u001b[0m\u001b[0;34m\u001b[0m\u001b[0;34m\u001b[0m\u001b[0m\n\u001b[0m",
      "\u001b[0;31mNameError\u001b[0m: name 'xyz' is not defined"
     ]
    }
   ],
   "source": [
    "print(xyz)"
   ]
  },
  {
   "cell_type": "code",
   "execution_count": 25,
   "id": "26b328bc",
   "metadata": {},
   "outputs": [
    {
     "ename": "NameError",
     "evalue": "name 'xyz' is not defined",
     "output_type": "error",
     "traceback": [
      "\u001b[0;31m---------------------------------------------------------------------------\u001b[0m",
      "\u001b[0;31mNameError\u001b[0m                                 Traceback (most recent call last)",
      "\u001b[0;32m<ipython-input-25-c399522dcc91>\u001b[0m in \u001b[0;36m<module>\u001b[0;34m\u001b[0m\n\u001b[0;32m----> 1\u001b[0;31m \u001b[0mxyz\u001b[0m\u001b[0;34m.\u001b[0m\u001b[0mclear\u001b[0m\u001b[0;34m(\u001b[0m\u001b[0;34m)\u001b[0m\u001b[0;34m\u001b[0m\u001b[0;34m\u001b[0m\u001b[0m\n\u001b[0m\u001b[1;32m      2\u001b[0m \u001b[0mxyz\u001b[0m\u001b[0;34m\u001b[0m\u001b[0;34m\u001b[0m\u001b[0m\n",
      "\u001b[0;31mNameError\u001b[0m: name 'xyz' is not defined"
     ]
    }
   ],
   "source": [
    "xyz.clear()\n",
    "xyz"
   ]
  },
  {
   "cell_type": "markdown",
   "id": "c0dc0527",
   "metadata": {},
   "source": [
    "## 5. Finding Items"
   ]
  },
  {
   "cell_type": "code",
   "execution_count": 26,
   "id": "b2cbf0cb",
   "metadata": {},
   "outputs": [
    {
     "name": "stdout",
     "output_type": "stream",
     "text": [
      "2\n"
     ]
    }
   ],
   "source": [
    "letters = ['a','b','c','d']\n",
    "print(letters.index('c'))"
   ]
  },
  {
   "cell_type": "code",
   "execution_count": 27,
   "id": "2c644cad",
   "metadata": {},
   "outputs": [
    {
     "ename": "ValueError",
     "evalue": "'e' is not in list",
     "output_type": "error",
     "traceback": [
      "\u001b[0;31m---------------------------------------------------------------------------\u001b[0m",
      "\u001b[0;31mValueError\u001b[0m                                Traceback (most recent call last)",
      "\u001b[0;32m<ipython-input-27-37fe9a8e5896>\u001b[0m in \u001b[0;36m<module>\u001b[0;34m\u001b[0m\n\u001b[1;32m      1\u001b[0m \u001b[0mletters\u001b[0m \u001b[0;34m=\u001b[0m \u001b[0;34m[\u001b[0m\u001b[0;34m'a'\u001b[0m\u001b[0;34m,\u001b[0m\u001b[0;34m'b'\u001b[0m\u001b[0;34m,\u001b[0m\u001b[0;34m'c'\u001b[0m\u001b[0;34m,\u001b[0m\u001b[0;34m'd'\u001b[0m\u001b[0;34m]\u001b[0m\u001b[0;34m\u001b[0m\u001b[0;34m\u001b[0m\u001b[0m\n\u001b[0;32m----> 2\u001b[0;31m \u001b[0mprint\u001b[0m\u001b[0;34m(\u001b[0m\u001b[0mletters\u001b[0m\u001b[0;34m.\u001b[0m\u001b[0mindex\u001b[0m\u001b[0;34m(\u001b[0m\u001b[0;34m'e'\u001b[0m\u001b[0;34m)\u001b[0m\u001b[0;34m)\u001b[0m\u001b[0;34m\u001b[0m\u001b[0;34m\u001b[0m\u001b[0m\n\u001b[0m",
      "\u001b[0;31mValueError\u001b[0m: 'e' is not in list"
     ]
    }
   ],
   "source": [
    "letters = ['a','b','c','d']\n",
    "print(letters.index('e'))"
   ]
  },
  {
   "cell_type": "code",
   "execution_count": 29,
   "id": "a92a8fe2",
   "metadata": {},
   "outputs": [
    {
     "name": "stdout",
     "output_type": "stream",
     "text": [
      "element is not in list\n"
     ]
    }
   ],
   "source": [
    "letters = ['a','b','c','d']\n",
    "if 'e' in letters:\n",
    "    print(letters.index('c'))\n",
    "else:\n",
    "    print('element is not in list')\n"
   ]
  },
  {
   "cell_type": "code",
   "execution_count": 31,
   "id": "bac7e8a8",
   "metadata": {},
   "outputs": [
    {
     "data": {
      "text/plain": [
       "2"
      ]
     },
     "execution_count": 31,
     "metadata": {},
     "output_type": "execute_result"
    }
   ],
   "source": [
    "letters = ['a','b','c','d','d']\n",
    "letters.count('d')"
   ]
  },
  {
   "cell_type": "markdown",
   "id": "8b24eee3",
   "metadata": {},
   "source": [
    "## 6. Sorting Lists"
   ]
  },
  {
   "cell_type": "code",
   "execution_count": 30,
   "id": "0f53b6d8",
   "metadata": {},
   "outputs": [
    {
     "name": "stdout",
     "output_type": "stream",
     "text": [
      "[1, 3, 5, 28, 45, 59, 91, 98]\n"
     ]
    }
   ],
   "source": [
    "numbers = [59,98,1,91,3,5,28,45]\n",
    "numbers.sort()\n",
    "print(numbers)"
   ]
  },
  {
   "cell_type": "code",
   "execution_count": 33,
   "id": "7e81c0de",
   "metadata": {},
   "outputs": [
    {
     "name": "stdout",
     "output_type": "stream",
     "text": [
      "[98, 91, 59, 45, 28, 5, 3, 1]\n"
     ]
    }
   ],
   "source": [
    "numbers = [59,98,1,91,3,5,28,45]\n",
    "numbers.sort(reverse=True)\n",
    "print(numbers)"
   ]
  },
  {
   "cell_type": "code",
   "execution_count": 34,
   "id": "cf90b8fd",
   "metadata": {},
   "outputs": [
    {
     "name": "stdout",
     "output_type": "stream",
     "text": [
      "[1, 3, 5, 28, 45, 59, 91, 98]\n"
     ]
    }
   ],
   "source": [
    "numbers = [59,98,1,91,3,5,28,45]\n",
    "print(sorted(numbers))\n",
    "#print(numbers)"
   ]
  },
  {
   "cell_type": "code",
   "execution_count": 33,
   "id": "0b9ec2e9",
   "metadata": {},
   "outputs": [
    {
     "name": "stdout",
     "output_type": "stream",
     "text": [
      "[98, 91, 59, 45, 28, 5, 3, 1]\n",
      "[59, 98, 1, 91, 3, 5, 28, 45]\n"
     ]
    }
   ],
   "source": [
    "numbers = [59,98,1,91,3,5,28,45]\n",
    "print(sorted(numbers,reverse=True))\n",
    "print(numbers)"
   ]
  },
  {
   "cell_type": "code",
   "execution_count": 36,
   "id": "6d077c64",
   "metadata": {},
   "outputs": [
    {
     "name": "stdout",
     "output_type": "stream",
     "text": [
      "[('product3', 20), ('product4', 50), ('product5', 40), ('product6', 90)]\n"
     ]
    }
   ],
   "source": [
    "items = [(\"product4\",50),\n",
    "         (\"product3\",20),\n",
    "         ('product6',90),\n",
    "         (\"product5\",40)\n",
    "]\n",
    "\n",
    "items.sort()\n",
    "print(items)"
   ]
  },
  {
   "cell_type": "code",
   "execution_count": 8,
   "id": "b386dc32",
   "metadata": {},
   "outputs": [
    {
     "name": "stdout",
     "output_type": "stream",
     "text": [
      "[('product2', 20), ('product4', 40), ('producct1', 50), ('product9', 90)]\n"
     ]
    }
   ],
   "source": [
    "items = [(\"producct1\",50),\n",
    "         (\"product2\",20),\n",
    "         ('product9',90),\n",
    "         (\"product4\",40)\n",
    "]\n",
    "def sort_item(item):\n",
    "    return item[1]\n",
    "items.sort(key = sort_item)\n",
    "print(items)"
   ]
  },
  {
   "cell_type": "markdown",
   "id": "71004264",
   "metadata": {},
   "source": [
    "## 7. Lambda function"
   ]
  },
  {
   "cell_type": "markdown",
   "id": "690e88a2",
   "metadata": {},
   "source": [
    "#### lamda function is basically a simple one line anonymous function that we can pass to other function. "
   ]
  },
  {
   "cell_type": "markdown",
   "id": "7c7a99c3",
   "metadata": {},
   "source": []
  },
  {
   "cell_type": "code",
   "execution_count": 34,
   "id": "47910879",
   "metadata": {},
   "outputs": [
    {
     "name": "stdout",
     "output_type": "stream",
     "text": [
      "[('product2', 20), ('product4', 40), ('producct1', 50), ('product3', 90)]\n"
     ]
    }
   ],
   "source": [
    "items = [(\"producct1\",50),\n",
    "         (\"product2\",20),\n",
    "         ('product3',90),\n",
    "         (\"product4\",40)\n",
    "]\n",
    "\n",
    "items.sort(key=lambda x:x[1])\n",
    "print(items)\n"
   ]
  },
  {
   "cell_type": "code",
   "execution_count": 35,
   "id": "fc6a6509",
   "metadata": {},
   "outputs": [
    {
     "data": {
      "text/plain": [
       "5"
      ]
     },
     "execution_count": 35,
     "metadata": {},
     "output_type": "execute_result"
    }
   ],
   "source": [
    "# Lambda functions or anonymous function or one line function.\n",
    "def minus(x,y):\n",
    "    return x-y\n",
    "minus (9,4)"
   ]
  },
  {
   "cell_type": "code",
   "execution_count": 36,
   "id": "267b590d",
   "metadata": {},
   "outputs": [
    {
     "data": {
      "text/plain": [
       "13"
      ]
     },
     "execution_count": 36,
     "metadata": {},
     "output_type": "execute_result"
    }
   ],
   "source": [
    "minus = lambda x,y : x+y \n",
    "minus(9,4)\n"
   ]
  },
  {
   "cell_type": "code",
   "execution_count": 40,
   "id": "ac8160ab",
   "metadata": {},
   "outputs": [
    {
     "name": "stdout",
     "output_type": "stream",
     "text": [
      "[[6, 98], [20, 45], [23, 4], [56, 32]]\n"
     ]
    }
   ],
   "source": [
    "def a_first(a):\n",
    "    return a[0]\n",
    "\n",
    "a = [[23,4],[6,98],[56,32],[20,45]]\n",
    "a.sort(key = a_first)\n",
    "print(a)"
   ]
  },
  {
   "cell_type": "code",
   "execution_count": 39,
   "id": "0c4498ab",
   "metadata": {},
   "outputs": [
    {
     "name": "stdout",
     "output_type": "stream",
     "text": [
      "[[23, 4, 4], [56, 32, 2], [20, 45, 1], [6, 98, 3]]\n"
     ]
    }
   ],
   "source": [
    "a = [[23,4,4],[6,98,3],[56,32,2],[20,45,1]]\n",
    "a.sort(key = lambda x:x[1])\n",
    "print(a)"
   ]
  },
  {
   "cell_type": "markdown",
   "id": "68ffbf13",
   "metadata": {},
   "source": [
    "##  8.Zip Function"
   ]
  },
  {
   "cell_type": "code",
   "execution_count": 41,
   "id": "5d1a1677",
   "metadata": {},
   "outputs": [
    {
     "name": "stdout",
     "output_type": "stream",
     "text": [
      "[(1, 10), (2, 20), (3, 45)]\n"
     ]
    }
   ],
   "source": [
    "List1 = [1,2,3]\n",
    "List2 = [10,20,45]\n",
    "print(list(zip(List1,List2)))"
   ]
  },
  {
   "cell_type": "code",
   "execution_count": 44,
   "id": "f1ee49f7",
   "metadata": {},
   "outputs": [
    {
     "name": "stdout",
     "output_type": "stream",
     "text": [
      "[('A', 1, 10, 'a'), ('B', 2, 20, 'b'), ('C', 3, 30, 'c'), ('D', 5, 50, 'd'), ('E', 90, 80, 'e')]\n"
     ]
    }
   ],
   "source": [
    "List1 = [1,2,3,5,90]\n",
    "List2 = [10,20,30,50,80]\n",
    "List3 = ['a','b','c','d','e']\n",
    "print(list(zip('ABCDE',List1,List2,List3)))"
   ]
  },
  {
   "cell_type": "markdown",
   "id": "dc3b7a3a",
   "metadata": {},
   "source": [
    "## 9.Stack"
   ]
  },
  {
   "cell_type": "code",
   "execution_count": 41,
   "id": "fbbdf7c9",
   "metadata": {},
   "outputs": [
    {
     "name": "stdout",
     "output_type": "stream",
     "text": [
      "[1, 2, 3, 40, 'c']\n"
     ]
    }
   ],
   "source": [
    "#Stack behaves on LIFO behaviour\n",
    "browsing = []\n",
    "browsing.append(1)\n",
    "browsing.append(2)\n",
    "browsing.append(3)\n",
    "browsing.append(40)\n",
    "browsing.append('c')\n",
    "print(browsing)"
   ]
  },
  {
   "cell_type": "markdown",
   "id": "5d164a7e",
   "metadata": {},
   "source": [
    "## 10.Queues"
   ]
  },
  {
   "cell_type": "code",
   "execution_count": 44,
   "id": "0de5ddb5",
   "metadata": {},
   "outputs": [],
   "source": [
    "#Queues behaves on FIFO behaviour\n",
    "    # methods -- 1.enqueue\n",
    "    #           2.dequeue\n",
    "    #           3.First value\n",
    "    #           4.Last value\n",
    "    #           5.Peak(its shows the position of the value in the lit)\n",
    "    #           6.is empty\n",
    "    #           7.is full\n",
    "\n"
   ]
  },
  {
   "cell_type": "code",
   "execution_count": 45,
   "id": "7874184b",
   "metadata": {},
   "outputs": [
    {
     "name": "stdout",
     "output_type": "stream",
     "text": [
      "deque([1, 2, 3, 4, 5])\n",
      "deque([2, 3, 4, 5])\n"
     ]
    }
   ],
   "source": [
    "from collections import deque\n",
    "queue = deque([])\n",
    "queue.append(1)\n",
    "queue.append(2)\n",
    "queue.append(3)\n",
    "queue.append(4)\n",
    "queue.append(5)\n",
    "             \n",
    "print(queue)\n",
    "queue.popleft()\n",
    "print(queue)"
   ]
  },
  {
   "cell_type": "markdown",
   "id": "4298f6b9",
   "metadata": {},
   "source": [
    "##  11.Tuples"
   ]
  },
  {
   "cell_type": "code",
   "execution_count": 46,
   "id": "296e1b40",
   "metadata": {},
   "outputs": [],
   "source": [
    "point = (1,2,3,4,5)"
   ]
  },
  {
   "cell_type": "code",
   "execution_count": 47,
   "id": "43244c36",
   "metadata": {},
   "outputs": [
    {
     "name": "stdout",
     "output_type": "stream",
     "text": [
      "(1, 2, 3, 4)\n"
     ]
    }
   ],
   "source": [
    "point1 = (1,2) + (3,4)\n",
    "print(point1)"
   ]
  },
  {
   "cell_type": "code",
   "execution_count": 48,
   "id": "6e391612",
   "metadata": {},
   "outputs": [
    {
     "name": "stdout",
     "output_type": "stream",
     "text": [
      "(1, 2)\n"
     ]
    }
   ],
   "source": [
    "point3 = tuple([1,2])\n",
    "print(point3)"
   ]
  },
  {
   "cell_type": "markdown",
   "id": "8c02520e",
   "metadata": {},
   "source": [
    "## 12. Swapping Variables"
   ]
  },
  {
   "cell_type": "code",
   "execution_count": 49,
   "id": "de9ce7a3",
   "metadata": {},
   "outputs": [
    {
     "name": "stdout",
     "output_type": "stream",
     "text": [
      "x= 20\n",
      "y= 10\n"
     ]
    }
   ],
   "source": [
    "x = 10\n",
    "y = 20\n",
    "\n",
    "z = x\n",
    "x = y\n",
    "y = z\n",
    "\n",
    "print(\"x=\",x)\n",
    "print(\"y=\",y)\n"
   ]
  },
  {
   "cell_type": "code",
   "execution_count": 50,
   "id": "86ecedbf",
   "metadata": {},
   "outputs": [
    {
     "name": "stdout",
     "output_type": "stream",
     "text": [
      "x= 20\n",
      "y= 10\n"
     ]
    }
   ],
   "source": [
    "x = 10\n",
    "y = 20\n",
    "\n",
    "x,y = y,x\n",
    "\n",
    "print(\"x=\",x)\n",
    "print(\"y=\",y)\n"
   ]
  },
  {
   "cell_type": "markdown",
   "id": "c0639f33",
   "metadata": {},
   "source": [
    "## 13.Sets"
   ]
  },
  {
   "cell_type": "code",
   "execution_count": 8,
   "id": "fb329edf",
   "metadata": {},
   "outputs": [],
   "source": [
    "#it is a collection of no duplicates."
   ]
  },
  {
   "cell_type": "code",
   "execution_count": 9,
   "id": "74a3233c",
   "metadata": {},
   "outputs": [
    {
     "name": "stdout",
     "output_type": "stream",
     "text": [
      "{1, 2, 3, 5, 6, 7}\n"
     ]
    }
   ],
   "source": [
    "numbers = [1,2,3,3,2,5,6,7,6]\n",
    "uniques = set(numbers)\n",
    "print(uniques)"
   ]
  },
  {
   "cell_type": "code",
   "execution_count": 32,
   "id": "9db239e5",
   "metadata": {},
   "outputs": [
    {
     "name": "stdout",
     "output_type": "stream",
     "text": [
      "{1, 2, 3, 6, 7, 8, 9}\n"
     ]
    }
   ],
   "source": [
    "numbers = [1,9,3,3,2,8,8,6,7,6]\n",
    "uniques = set(numbers)\n",
    "print(uniques)"
   ]
  },
  {
   "cell_type": "code",
   "execution_count": 37,
   "id": "f8e7b237",
   "metadata": {},
   "outputs": [
    {
     "name": "stdout",
     "output_type": "stream",
     "text": [
      "{1, 2, 3, 4, 5, 9}\n"
     ]
    }
   ],
   "source": [
    "second = {1,4}\n",
    "second.add(9)\n",
    "second.add(3)\n",
    "second.add(5)\n",
    "second.add(2)\n",
    "print(second)\n",
    "\n"
   ]
  },
  {
   "cell_type": "code",
   "execution_count": 11,
   "id": "7aa31bd4",
   "metadata": {},
   "outputs": [
    {
     "data": {
      "text/plain": [
       "{1, 4, 5, 7, 8}"
      ]
     },
     "execution_count": 11,
     "metadata": {},
     "output_type": "execute_result"
    }
   ],
   "source": [
    "second = {1,4,5,7,8,9}\n",
    "second.remove(9)\n",
    "second"
   ]
  },
  {
   "cell_type": "code",
   "execution_count": 33,
   "id": "0e3a725c",
   "metadata": {},
   "outputs": [
    {
     "name": "stdout",
     "output_type": "stream",
     "text": [
      "[1, 9, 2, 3, 3, 2, 5, 6, 7, 6]\n",
      "{1, 2, 3, 5, 6, 7, 9}\n",
      "{1, 2, 3, 4, 5, 6, 7, 8, 9}\n",
      "{9, 2, 3}\n",
      "{1, 5, 6, 7}\n"
     ]
    }
   ],
   "source": [
    "numbers = [1,9,2,3,3,2,5,6,7,6]\n",
    "print(numbers)\n",
    "first = set(numbers)\n",
    "print(first)\n",
    "first = {1, 2, 3, 5, 6, 7, 9}\n",
    "second = {3,2,9,4,8}    \n",
    "print(first | second)\n",
    "print(first & second)\n",
    "print(first - second)"
   ]
  },
  {
   "cell_type": "code",
   "execution_count": 38,
   "id": "d23a0e93",
   "metadata": {},
   "outputs": [
    {
     "name": "stdout",
     "output_type": "stream",
     "text": [
      "yes\n"
     ]
    }
   ],
   "source": [
    "numbers = [1,2,3,3,2,5,6,7,6,9]\n",
    "first = set(numbers)\n",
    "if 9 in first:\n",
    "    print('yes')\n",
    "else:\n",
    "    print(\"no\")"
   ]
  },
  {
   "cell_type": "code",
   "execution_count": 14,
   "id": "86ba2b86",
   "metadata": {},
   "outputs": [
    {
     "ename": "TypeError",
     "evalue": "'set' object is not subscriptable",
     "output_type": "error",
     "traceback": [
      "\u001b[0;31m---------------------------------------------------------------------------\u001b[0m",
      "\u001b[0;31mTypeError\u001b[0m                                 Traceback (most recent call last)",
      "\u001b[0;32m<ipython-input-14-8f8f5ac70460>\u001b[0m in \u001b[0;36m<module>\u001b[0;34m\u001b[0m\n\u001b[1;32m      1\u001b[0m \u001b[0mnumbers\u001b[0m \u001b[0;34m=\u001b[0m \u001b[0;34m[\u001b[0m\u001b[0;36m1\u001b[0m\u001b[0;34m,\u001b[0m\u001b[0;36m2\u001b[0m\u001b[0;34m,\u001b[0m\u001b[0;36m3\u001b[0m\u001b[0;34m,\u001b[0m\u001b[0;36m3\u001b[0m\u001b[0;34m,\u001b[0m\u001b[0;36m2\u001b[0m\u001b[0;34m,\u001b[0m\u001b[0;36m5\u001b[0m\u001b[0;34m,\u001b[0m\u001b[0;36m6\u001b[0m\u001b[0;34m,\u001b[0m\u001b[0;36m7\u001b[0m\u001b[0;34m,\u001b[0m\u001b[0;36m6\u001b[0m\u001b[0;34m]\u001b[0m\u001b[0;34m\u001b[0m\u001b[0;34m\u001b[0m\u001b[0m\n\u001b[1;32m      2\u001b[0m \u001b[0mfirst\u001b[0m \u001b[0;34m=\u001b[0m \u001b[0mset\u001b[0m\u001b[0;34m(\u001b[0m\u001b[0mnumbers\u001b[0m\u001b[0;34m)\u001b[0m\u001b[0;34m\u001b[0m\u001b[0;34m\u001b[0m\u001b[0m\n\u001b[0;32m----> 3\u001b[0;31m \u001b[0mprint\u001b[0m\u001b[0;34m(\u001b[0m\u001b[0mfirst\u001b[0m\u001b[0;34m[\u001b[0m\u001b[0;36m0\u001b[0m\u001b[0;34m]\u001b[0m\u001b[0;34m)\u001b[0m\u001b[0;34m\u001b[0m\u001b[0;34m\u001b[0m\u001b[0m\n\u001b[0m",
      "\u001b[0;31mTypeError\u001b[0m: 'set' object is not subscriptable"
     ]
    }
   ],
   "source": [
    "numbers = [1,2,3,3,2,5,6,7,6]\n",
    "first = set(numbers)\n",
    "print(first[0])"
   ]
  },
  {
   "cell_type": "markdown",
   "id": "a4b81ead",
   "metadata": {},
   "source": [
    "## 14.Dictionaries"
   ]
  },
  {
   "cell_type": "code",
   "execution_count": 15,
   "id": "393c0f5a",
   "metadata": {},
   "outputs": [],
   "source": [
    "# Dictionaries is basiccally a collection of key value pairs. We use it to map a key to a value. \n",
    "# Ecxample-- phone book \n",
    "#         name--phone number"
   ]
  },
  {
   "cell_type": "code",
   "execution_count": 16,
   "id": "2453d171",
   "metadata": {},
   "outputs": [
    {
     "name": "stdout",
     "output_type": "stream",
     "text": [
      "{'x': 1, 'y': 2}\n"
     ]
    }
   ],
   "source": [
    "point = {\"x\": 1, \"y\": 2} #but this is long approach\n",
    "\n",
    "# we can write using dict function\n",
    "point = dict(x=1,y=2)\n",
    "print(point)\n"
   ]
  },
  {
   "cell_type": "code",
   "execution_count": 17,
   "id": "a4ed20c4",
   "metadata": {},
   "outputs": [
    {
     "name": "stdout",
     "output_type": "stream",
     "text": [
      "{'x': 10, 'y': 2, 'z': 20}\n"
     ]
    }
   ],
   "source": [
    "point = dict(x=1,y=2)\n",
    "point[\"x\"]=10\n",
    "point[\"z\"]=20\n",
    "print(point)\n"
   ]
  },
  {
   "cell_type": "code",
   "execution_count": 41,
   "id": "5118ef14",
   "metadata": {},
   "outputs": [
    {
     "name": "stdout",
     "output_type": "stream",
     "text": [
      "20\n"
     ]
    }
   ],
   "source": [
    "point = dict(x=1,y=2)\n",
    "point[\"x\"]=10\n",
    "point[\"z\"]=20\n",
    "print(point[\"z\"])\n"
   ]
  },
  {
   "cell_type": "code",
   "execution_count": 43,
   "id": "aac115aa",
   "metadata": {},
   "outputs": [
    {
     "name": "stdout",
     "output_type": "stream",
     "text": [
      "None\n"
     ]
    }
   ],
   "source": [
    "point = dict(x=1,y=2)\n",
    "point[\"x\"]=10\n",
    "point[\"z\"]=20\n",
    "print(point.get(\"b\"))\n"
   ]
  },
  {
   "cell_type": "code",
   "execution_count": 20,
   "id": "0ba7c192",
   "metadata": {},
   "outputs": [
    {
     "name": "stdout",
     "output_type": "stream",
     "text": [
      "{'y': 2, 'z': 20}\n"
     ]
    }
   ],
   "source": [
    "point = dict(x=1,y=2)\n",
    "point[\"x\"]=10\n",
    "point[\"z\"]=20\n",
    "del point[\"x\"]\n",
    "print(point)"
   ]
  },
  {
   "cell_type": "code",
   "execution_count": 21,
   "id": "a643684b",
   "metadata": {},
   "outputs": [
    {
     "name": "stdout",
     "output_type": "stream",
     "text": [
      "('x', 10)\n",
      "('y', 2)\n",
      "('z', 20)\n"
     ]
    }
   ],
   "source": [
    "point = dict(x=1,y=2)\n",
    "point[\"x\"]=10\n",
    "point[\"z\"]=20\n",
    "\n",
    "for x in point.items():\n",
    "    print(x)"
   ]
  },
  {
   "cell_type": "markdown",
   "id": "55039a6d",
   "metadata": {},
   "source": [
    "## 15.Dictionary Comprehension"
   ]
  },
  {
   "cell_type": "code",
   "execution_count": 22,
   "id": "decea071",
   "metadata": {},
   "outputs": [
    {
     "name": "stdout",
     "output_type": "stream",
     "text": [
      "[0]\n",
      "[0, 2]\n",
      "[0, 2, 4]\n",
      "[0, 2, 4, 6]\n",
      "[0, 2, 4, 6, 8]\n"
     ]
    }
   ],
   "source": [
    "values = []\n",
    "for x in range(5):\n",
    "    values.append(x * 2)\n",
    "    print(values)"
   ]
  },
  {
   "cell_type": "code",
   "execution_count": 23,
   "id": "01f96824",
   "metadata": {},
   "outputs": [
    {
     "name": "stdout",
     "output_type": "stream",
     "text": [
      "{0, 2, 4, 6, 8}\n"
     ]
    }
   ],
   "source": [
    "values = {x * 2 for x in range(5)}\n",
    "print(values)"
   ]
  },
  {
   "cell_type": "code",
   "execution_count": 24,
   "id": "483aa79b",
   "metadata": {},
   "outputs": [
    {
     "name": "stdout",
     "output_type": "stream",
     "text": [
      "{0: 0, 1: 2, 2: 4, 3: 6, 4: 8}\n"
     ]
    }
   ],
   "source": [
    "values = {x: x * 2 for x in range(5)}\n",
    "print(values)"
   ]
  },
  {
   "cell_type": "markdown",
   "id": "55ec6a41",
   "metadata": {},
   "source": [
    "## 16.Unpacking Operator"
   ]
  },
  {
   "cell_type": "code",
   "execution_count": 25,
   "id": "b19b97ee",
   "metadata": {},
   "outputs": [
    {
     "name": "stdout",
     "output_type": "stream",
     "text": [
      "1 2 3 4\n",
      "[1, 2, 3, 4]\n"
     ]
    }
   ],
   "source": [
    "numbers = [1,2,3,4]\n",
    "print(*numbers)\n",
    "print(numbers)"
   ]
  },
  {
   "cell_type": "code",
   "execution_count": 26,
   "id": "2d0a9788",
   "metadata": {},
   "outputs": [
    {
     "name": "stdout",
     "output_type": "stream",
     "text": [
      "[0, 1, 2, 3, 4, 'h', 'e', 'l', 'l', 'o']\n"
     ]
    }
   ],
   "source": [
    "values = list(range(5))\n",
    "values = [*range(5),*'hello']\n",
    "print(values)"
   ]
  },
  {
   "cell_type": "code",
   "execution_count": null,
   "id": "562f5016",
   "metadata": {},
   "outputs": [],
   "source": []
  }
 ],
 "metadata": {
  "interpreter": {
   "hash": "5768c35272335e4f9605f1e7dc0d6b8bf02be0a7c404e349d2f4d58e64f1ab8c"
  },
  "kernelspec": {
   "display_name": "Python 3",
   "language": "python",
   "name": "python3"
  },
  "language_info": {
   "codemirror_mode": {
    "name": "ipython",
    "version": 3
   },
   "file_extension": ".py",
   "mimetype": "text/x-python",
   "name": "python",
   "nbconvert_exporter": "python",
   "pygments_lexer": "ipython3",
   "version": "3.8.8"
  }
 },
 "nbformat": 4,
 "nbformat_minor": 5
}
