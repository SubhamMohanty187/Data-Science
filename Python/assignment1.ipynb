{
  "nbformat": 4,
  "nbformat_minor": 0,
  "metadata": {
    "colab": {
      "name": "assignment1.ipynb",
      "provenance": [],
      "authorship_tag": "ABX9TyNi+8Scdld7YXItiv8oiTWq",
      "include_colab_link": true
    },
    "kernelspec": {
      "name": "python3",
      "display_name": "Python 3"
    },
    "language_info": {
      "name": "python"
    }
  },
  "cells": [
    {
      "cell_type": "markdown",
      "metadata": {
        "id": "view-in-github",
        "colab_type": "text"
      },
      "source": [
        "<a href=\"https://colab.research.google.com/github/SubhamMohanty187/Data-Science/blob/main/Python/assignment1.ipynb\" target=\"_parent\"><img src=\"https://colab.research.google.com/assets/colab-badge.svg\" alt=\"Open In Colab\"/></a>"
      ]
    },
    {
      "cell_type": "code",
      "execution_count": null,
      "metadata": {
        "colab": {
          "base_uri": "https://localhost:8080/"
        },
        "id": "4M_ZdPa7SEDB",
        "outputId": "65542dcf-28f2-4ed5-e7ea-4b251c0fe0d0"
      },
      "outputs": [
        {
          "output_type": "stream",
          "name": "stdout",
          "text": [
            "111\n"
          ]
        }
      ],
      "source": [
        "a =\"10\" \n",
        "b= a + \"1\" \n",
        "c = int(a)+int(b)\n",
        "print(c)"
      ]
    },
    {
      "cell_type": "code",
      "source": [
        "import numpy as np"
      ],
      "metadata": {
        "id": "7RCfOn_7XXRg"
      },
      "execution_count": null,
      "outputs": []
    },
    {
      "cell_type": "code",
      "source": [
        "print(np.arange(10))"
      ],
      "metadata": {
        "id": "C4G0tb9Fk2_g",
        "colab": {
          "base_uri": "https://localhost:8080/"
        },
        "outputId": "3e27b6d8-15a0-43d8-b079-914aeb6b7bed"
      },
      "execution_count": null,
      "outputs": [
        {
          "output_type": "stream",
          "name": "stdout",
          "text": [
            "[0 1 2 3 4 5 6 7 8 9]\n"
          ]
        }
      ]
    },
    {
      "cell_type": "code",
      "source": [
        "a =10\n",
        "while a <20:\n",
        "  a+=1\n",
        "  if a==15:\n",
        "    continue\n",
        "  print(a)"
      ],
      "metadata": {
        "id": "-FkDCVJ-qHrp",
        "colab": {
          "base_uri": "https://localhost:8080/"
        },
        "outputId": "175ddf64-3170-48f4-981b-a04d692cd37e"
      },
      "execution_count": null,
      "outputs": [
        {
          "output_type": "stream",
          "name": "stdout",
          "text": [
            "11\n",
            "12\n",
            "13\n",
            "14\n",
            "16\n",
            "17\n",
            "18\n",
            "19\n",
            "20\n"
          ]
        }
      ]
    },
    {
      "cell_type": "code",
      "source": [
        "def result(li,n):\n",
        "  for i in range(n):\n",
        "    x = max(li)\n",
        "    li.remove(x)\n",
        "  return x\n",
        "\n",
        "n = int(input(\"Enter the value of n: \"))\n",
        "li = [10,30,60,20,50,80,90,70,40]            #10,20,30,40,50,60,70,80,90.\n",
        "\n",
        "print(n,\"highest value: \",result(li,n))"
      ],
      "metadata": {
        "id": "NFFUEvNPolco",
        "colab": {
          "base_uri": "https://localhost:8080/"
        },
        "outputId": "6f3733c4-0b2f-453b-8a13-3f7e167f5b20"
      },
      "execution_count": null,
      "outputs": [
        {
          "output_type": "stream",
          "name": "stdout",
          "text": [
            "Enter the value of n: 3\n",
            "3 highest value:  70\n"
          ]
        }
      ]
    }
  ]
}
