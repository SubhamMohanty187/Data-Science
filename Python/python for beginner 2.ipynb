{
 "cells": [
  {
   "cell_type": "markdown",
   "id": "908acf28",
   "metadata": {},
   "source": [
    "# 2.Primitive Data Types\n"
   ]
  },
  {
   "cell_type": "markdown",
   "id": "6b25ef71",
   "metadata": {},
   "source": [
    "## 1. Variables"
   ]
  },
  {
   "cell_type": "code",
   "execution_count": null,
   "id": "01cccce3",
   "metadata": {},
   "outputs": [],
   "source": [
    "# primitive data types can be number,boolean and string values\n",
    "\n",
    "student_count = 1000 #python interpreter allocate a memory and store this number 1000 in that memory space. we can use this variable anywhere in our python program to access that vlaues(1000)\n",
    "print(student_count)"
   ]
  },
  {
   "cell_type": "code",
   "execution_count": null,
   "id": "24edb7fa",
   "metadata": {},
   "outputs": [],
   "source": [
    "sabyasachi = 100\n",
    "print(sabyasachi)"
   ]
  },
  {
   "cell_type": "code",
   "execution_count": null,
   "id": "1753088f",
   "metadata": {},
   "outputs": [],
   "source": [
    "c = 0.5\n",
    "type(c)"
   ]
  },
  {
   "cell_type": "code",
   "execution_count": null,
   "id": "5a14c7a7",
   "metadata": {},
   "outputs": [],
   "source": [
    "rating = True\n",
    "type(rating)\n",
    "#rating"
   ]
  },
  {
   "cell_type": "code",
   "execution_count": null,
   "id": "6ce766d9",
   "metadata": {},
   "outputs": [],
   "source": [
    " a = 1\n",
    "print(a)"
   ]
  },
  {
   "cell_type": "code",
   "execution_count": null,
   "id": "dd9f50c7",
   "metadata": {},
   "outputs": [],
   "source": [
    "my_name_is_sabyasachi = False  #python is a case sensitive language\n",
    "type(my_name_is_sabyasachi)\n",
    "#my_name_is_sabyasachi"
   ]
  },
  {
   "cell_type": "markdown",
   "id": "41658991",
   "metadata": {},
   "source": [
    "## 2.Variables Names"
   ]
  },
  {
   "cell_type": "code",
   "execution_count": null,
   "id": "e28b70b2",
   "metadata": {},
   "outputs": [],
   "source": [
    "# Variables name should be descriptive and meaningful.\n",
    "sc = 1000 #it is not a good practice beacuse we could not understood what is sc.\n",
    "# Variables name should be in lower case and if there is some space then use underscore.\n"
   ]
  },
  {
   "cell_type": "markdown",
   "id": "360a850e",
   "metadata": {},
   "source": [
    "## 3.Strings"
   ]
  },
  {
   "cell_type": "code",
   "execution_count": null,
   "id": "76043326",
   "metadata": {},
   "outputs": [],
   "source": [
    "#course = 'python for beginner\" #String must be in single quotes or double quotes.\n",
    "message = ''' Hi everyone . \n",
    "I am sabyasachi from divineAI.\n",
    "Am your python instructer. ''' #Sometimes we use triple quotes beacuse we want to include in the body of an email.\n",
    "#print(course)\n",
    "print(message)"
   ]
  },
  {
   "cell_type": "code",
   "execution_count": null,
   "id": "2438bb04",
   "metadata": {},
   "outputs": [],
   "source": [
    "int = '9'\n",
    "type(int)"
   ]
  },
  {
   "cell_type": "code",
   "execution_count": null,
   "id": "6b95d821",
   "metadata": {},
   "outputs": [],
   "source": [
    "x = 'xyz zxy'\n",
    "len(x)"
   ]
  },
  {
   "cell_type": "markdown",
   "id": "8ce3ee7d",
   "metadata": {},
   "source": [
    "##### Function is a basically reusable piece of code that carries out a task.\n",
    " "
   ]
  },
  {
   "cell_type": "code",
   "execution_count": null,
   "id": "e6e06e97",
   "metadata": {},
   "outputs": [],
   "source": [
    "len()  #Here len()is built in function which means we use this for finding a length of string\n",
    "       # Here we are using () that means we are calling that builtin finction which basically means we using that function.\n",
    "       "
   ]
  },
  {
   "cell_type": "code",
   "execution_count": 72,
   "id": "6bb3396e",
   "metadata": {
    "scrolled": true
   },
   "outputs": [
    {
     "name": "stdout",
     "output_type": "stream",
     "text": [
      "14\n",
      "p\n",
      "l\n",
      "pyt\n",
      "python for all\n",
      "pyt\n",
      "python for all\n"
     ]
    }
   ],
   "source": [
    "course = 'python for all'\n",
    "print(len(course)) #Sometimes we are passing some values in that () and this is called argument.\n",
    "print(course[0])   #It is showing the 0th index of the course variable.\n",
    "print(course[-1])  #it's shows the last letter of the course variable.\n",
    "print(course[0:3]) #it's shows from 0th index to 2nd index.\n",
    "print(course[0:])  #it's shows from 0th index to onwards.\n",
    "print(course[:3])  #it's shows from 0th index to 2nd index.\n",
    "print(course[:])   #it's shows all the above variable course."
   ]
  },
  {
   "cell_type": "code",
   "execution_count": 76,
   "id": "eea90de3",
   "metadata": {},
   "outputs": [
    {
     "name": "stdout",
     "output_type": "stream",
     "text": [
      "arfnh\n"
     ]
    }
   ],
   "source": [
    "print(course[-3:-12:-2])"
   ]
  },
  {
   "cell_type": "code",
   "execution_count": 77,
   "id": "3b1aecb7",
   "metadata": {},
   "outputs": [
    {
     "name": "stdout",
     "output_type": "stream",
     "text": [
      "ZYXC\n",
      "ZYXC\n"
     ]
    }
   ],
   "source": [
    "x = 'ABCXYZ'\n",
    "print(x[-1:-5:-1])\n",
    "print(x[5:1:-1])"
   ]
  },
  {
   "cell_type": "code",
   "execution_count": 78,
   "id": "7f4197e7",
   "metadata": {},
   "outputs": [
    {
     "name": "stdout",
     "output_type": "stream",
     "text": [
      "ohty\n"
     ]
    }
   ],
   "source": [
    "print(course[4:0:-1])"
   ]
  },
  {
   "cell_type": "code",
   "execution_count": 82,
   "id": "ff9490b1",
   "metadata": {},
   "outputs": [
    {
     "name": "stdout",
     "output_type": "stream",
     "text": [
      "htyp\n"
     ]
    }
   ],
   "source": [
    "course_2 = \"python for\"\n",
    "print(course_2[-7::-1])"
   ]
  },
  {
   "cell_type": "code",
   "execution_count": 83,
   "id": "2c2fd750",
   "metadata": {},
   "outputs": [
    {
     "name": "stdout",
     "output_type": "stream",
     "text": [
      "ia\n"
     ]
    }
   ],
   "source": [
    "name = 'sabyasachi'\n",
    "print(name[-1:-7:-3])\n"
   ]
  },
  {
   "cell_type": "code",
   "execution_count": 86,
   "id": "5655dd96",
   "metadata": {},
   "outputs": [
    {
     "name": "stdout",
     "output_type": "stream",
     "text": [
      "hascasbas\n"
     ]
    }
   ],
   "source": [
    "s = 'sabsacsah'\n",
    "print(s[-1::-1])"
   ]
  },
  {
   "cell_type": "markdown",
   "id": "f5fd686f",
   "metadata": {},
   "source": [
    "## 4.Escape Sequence"
   ]
  },
  {
   "cell_type": "code",
   "execution_count": 96,
   "id": "417070dc",
   "metadata": {},
   "outputs": [
    {
     "name": "stdout",
     "output_type": "stream",
     "text": [
      "python for \"beginner\n"
     ]
    }
   ],
   "source": [
    "course = \"python for \\\"beginner\"\n",
    "print(course)"
   ]
  },
  {
   "cell_type": "code",
   "execution_count": 90,
   "id": "412a2c42",
   "metadata": {},
   "outputs": [
    {
     "name": "stdout",
     "output_type": "stream",
     "text": [
      "python \"for \" begi\"nner\n"
     ]
    }
   ],
   "source": [
    "course = \"python \\\"for \\\" begi\\\"nner\"      # back slash is an escape character \n",
    "print(course)"
   ]
  },
  {
   "cell_type": "code",
   "execution_count": 99,
   "id": "c12fabdb",
   "metadata": {},
   "outputs": [
    {
     "name": "stdout",
     "output_type": "stream",
     "text": [
      "python for \beginner\n"
     ]
    }
   ],
   "source": [
    "course = \"python for \\beginner\"\n",
    "print(course)"
   ]
  },
  {
   "cell_type": "code",
   "execution_count": 88,
   "id": "e1ccf102",
   "metadata": {},
   "outputs": [
    {
     "name": "stdout",
     "output_type": "stream",
     "text": [
      "python \f",
      "or beginner\n"
     ]
    }
   ],
   "source": [
    "course = \"python \\for beginner\"\n",
    "print(course)"
   ]
  },
  {
   "cell_type": "code",
   "execution_count": 87,
   "id": "5ba9b2fb",
   "metadata": {},
   "outputs": [
    {
     "name": "stdout",
     "output_type": "stream",
     "text": [
      "python \n",
      " for beginner\n"
     ]
    }
   ],
   "source": [
    "course = \"python \\n for beginner\"\n",
    "print(course)"
   ]
  },
  {
   "cell_type": "markdown",
   "id": "0cee844d",
   "metadata": {},
   "source": [
    "## 5.Formatted Strings"
   ]
  },
  {
   "cell_type": "code",
   "execution_count": 1,
   "id": "e69d628c",
   "metadata": {},
   "outputs": [
    {
     "name": "stdout",
     "output_type": "stream",
     "text": [
      "sabyasachi mohanty\n"
     ]
    }
   ],
   "source": [
    "first = \"sabyasachi\"\n",
    "second = \"mohanty\"\n",
    "full = first +\" \"+ second\n",
    "print(full)"
   ]
  },
  {
   "cell_type": "code",
   "execution_count": 7,
   "id": "e1d3b422",
   "metadata": {},
   "outputs": [
    {
     "name": "stdout",
     "output_type": "stream",
     "text": [
      "sabyasachi mohanty \n"
     ]
    }
   ],
   "source": [
    "first = \"sabyasachi\"\n",
    "second = \"mohanty\"\n",
    "full = f\"{(first)} {(second)} \"\n",
    "print(full)"
   ]
  },
  {
   "cell_type": "code",
   "execution_count": 9,
   "id": "e8e961b7",
   "metadata": {
    "scrolled": true
   },
   "outputs": [
    {
     "name": "stdout",
     "output_type": "stream",
     "text": [
      "sabyasachi mohanty\n"
     ]
    }
   ],
   "source": [
    "first = \"sabyasachi\"\n",
    "second = \"mohanty\"\n",
    "print(f\"{(first)} {(second)}\")\n",
    "#print(full)"
   ]
  },
  {
   "cell_type": "code",
   "execution_count": 10,
   "id": "fdfe88f2",
   "metadata": {
    "scrolled": true
   },
   "outputs": [
    {
     "name": "stdout",
     "output_type": "stream",
     "text": [
      "10 7\n"
     ]
    }
   ],
   "source": [
    "first = \"sabyasachi\"\n",
    "second = \"mohanty\"\n",
    "print(f\"{len(first)} {len(second)}\")"
   ]
  },
  {
   "cell_type": "markdown",
   "id": "87644b1a",
   "metadata": {},
   "source": [
    "## 6.String Method"
   ]
  },
  {
   "cell_type": "code",
   "execution_count": 41,
   "id": "c9123ab5",
   "metadata": {},
   "outputs": [],
   "source": [
    "name = \"sabyasachi mohantydas\""
   ]
  },
  {
   "cell_type": "code",
   "execution_count": 18,
   "id": "9b32f2c3",
   "metadata": {},
   "outputs": [
    {
     "name": "stdout",
     "output_type": "stream",
     "text": [
      "SABYASACHI MOHANTY DAS\n"
     ]
    }
   ],
   "source": [
    "print(name.upper())"
   ]
  },
  {
   "cell_type": "code",
   "execution_count": 19,
   "id": "08aea76f",
   "metadata": {},
   "outputs": [
    {
     "name": "stdout",
     "output_type": "stream",
     "text": [
      "sbyasachi mohanty\n"
     ]
    }
   ],
   "source": [
    "x = \"SBYASACHI MOHANTY\"\n",
    "print(x.lower())"
   ]
  },
  {
   "cell_type": "code",
   "execution_count": 22,
   "id": "0510e686",
   "metadata": {},
   "outputs": [
    {
     "name": "stdout",
     "output_type": "stream",
     "text": [
      "Sabyasachi Mohantydas\n"
     ]
    }
   ],
   "source": [
    "print(name.title())"
   ]
  },
  {
   "cell_type": "code",
   "execution_count": 31,
   "id": "8647d4d1",
   "metadata": {},
   "outputs": [
    {
     "name": "stdout",
     "output_type": "stream",
     "text": [
      "0\n"
     ]
    }
   ],
   "source": [
    "print(name.find(\"s\"))\n"
   ]
  },
  {
   "cell_type": "code",
   "execution_count": 35,
   "id": "e3637c29",
   "metadata": {},
   "outputs": [
    {
     "name": "stdout",
     "output_type": "stream",
     "text": [
      "13\n"
     ]
    }
   ],
   "source": [
    "print(name.find(\"han\"))"
   ]
  },
  {
   "cell_type": "code",
   "execution_count": 36,
   "id": "e54f407d",
   "metadata": {},
   "outputs": [
    {
     "name": "stdout",
     "output_type": "stream",
     "text": [
      "sabyasachi chandan\n"
     ]
    }
   ],
   "source": [
    "print(name.replace(\"mohantydas\",\"chandan\"))"
   ]
  },
  {
   "cell_type": "code",
   "execution_count": 39,
   "id": "1dcd5d19",
   "metadata": {},
   "outputs": [
    {
     "name": "stdout",
     "output_type": "stream",
     "text": [
      "True\n"
     ]
    }
   ],
   "source": [
    "print(\"moH\" in name)"
   ]
  },
  {
   "cell_type": "code",
   "execution_count": 44,
   "id": "15412d0b",
   "metadata": {},
   "outputs": [
    {
     "name": "stdout",
     "output_type": "stream",
     "text": [
      "False\n"
     ]
    }
   ],
   "source": [
    "print(\"mohanty\" not in name)"
   ]
  },
  {
   "cell_type": "markdown",
   "id": "9db68f07",
   "metadata": {},
   "source": [
    "## 7.Numbers\n"
   ]
  },
  {
   "cell_type": "code",
   "execution_count": 45,
   "id": "ba8ead12",
   "metadata": {},
   "outputs": [
    {
     "ename": "NameError",
     "evalue": "name 'a' is not defined",
     "output_type": "error",
     "traceback": [
      "\u001b[0;31m---------------------------------------------------------------------------\u001b[0m",
      "\u001b[0;31mNameError\u001b[0m                                 Traceback (most recent call last)",
      "\u001b[0;32m<ipython-input-45-8de56c018ffc>\u001b[0m in \u001b[0;36m<module>\u001b[0;34m\u001b[0m\n\u001b[1;32m      2\u001b[0m \u001b[0mx\u001b[0m \u001b[0;34m=\u001b[0m \u001b[0;36m1\u001b[0m    \u001b[0;31m# integer\u001b[0m\u001b[0;34m\u001b[0m\u001b[0;34m\u001b[0m\u001b[0m\n\u001b[1;32m      3\u001b[0m \u001b[0mx\u001b[0m \u001b[0;34m=\u001b[0m \u001b[0;36m1.1\u001b[0m  \u001b[0;31m#Float\u001b[0m\u001b[0;34m\u001b[0m\u001b[0;34m\u001b[0m\u001b[0m\n\u001b[0;32m----> 4\u001b[0;31m \u001b[0mx\u001b[0m \u001b[0;34m=\u001b[0m \u001b[0ma\u001b[0m\u001b[0;34m+\u001b[0m\u001b[0mbj\u001b[0m \u001b[0;31m#complex number(here j is a imaginary number)\u001b[0m\u001b[0;34m\u001b[0m\u001b[0;34m\u001b[0m\u001b[0m\n\u001b[0m",
      "\u001b[0;31mNameError\u001b[0m: name 'a' is not defined"
     ]
    }
   ],
   "source": [
    "# We have 3 types of numbers. i.e integer, float and complex number\n",
    "x = 1    # integer\n",
    "x = 1.1  #Float\n",
    "x = a+bj #complex number(here j is a imaginary number)"
   ]
  },
  {
   "cell_type": "code",
   "execution_count": 46,
   "id": "3249908a",
   "metadata": {},
   "outputs": [
    {
     "name": "stdout",
     "output_type": "stream",
     "text": [
      "13\n",
      "7\n",
      "30\n",
      "3.3333333333333335\n",
      "3\n",
      "1\n",
      "1000\n"
     ]
    }
   ],
   "source": [
    "# some arithmatic operation in python\n",
    "print(10+3)\n",
    "print(10-3)\n",
    "print(10*3)\n",
    "print(10/3)\n",
    "print(10//3)\n",
    "print(10%3)\n",
    "print(10**3)\n",
    "\n"
   ]
  },
  {
   "cell_type": "code",
   "execution_count": 51,
   "id": "0b525972",
   "metadata": {},
   "outputs": [
    {
     "data": {
      "text/plain": [
       "30"
      ]
     },
     "execution_count": 51,
     "metadata": {},
     "output_type": "execute_result"
    }
   ],
   "source": [
    "#Argumented assignment operator\n",
    "x = 10\n",
    "#x = 10 - 3\n",
    "x *=3 #Argumented assignment operator\n",
    "x\n",
    "           "
   ]
  },
  {
   "cell_type": "markdown",
   "id": "bcfba1bb",
   "metadata": {},
   "source": [
    "## 8.Working with Numbers"
   ]
  },
  {
   "cell_type": "code",
   "execution_count": 54,
   "id": "8306b9c4",
   "metadata": {},
   "outputs": [
    {
     "name": "stdout",
     "output_type": "stream",
     "text": [
      "6.8\n"
     ]
    }
   ],
   "source": [
    "\n",
    "print(abs(-6.8)) # abs means absolute value of the number     |-10|=10"
   ]
  },
  {
   "cell_type": "code",
   "execution_count": 57,
   "id": "0638afbf",
   "metadata": {},
   "outputs": [
    {
     "name": "stdout",
     "output_type": "stream",
     "text": [
      "6\n"
     ]
    }
   ],
   "source": [
    "print(round(6.1))"
   ]
  },
  {
   "cell_type": "code",
   "execution_count": 65,
   "id": "1a325561",
   "metadata": {
    "scrolled": true
   },
   "outputs": [
    {
     "name": "stdout",
     "output_type": "stream",
     "text": [
      "3\n"
     ]
    }
   ],
   "source": [
    "# Math Module is like separate file with some python code which includes lots of mathematical function.\n",
    "\n",
    "import math as m\n",
    "\n",
    "print(m.ceil(2.1)) #Return the ceiling of x, the smallest integer greater than or equal to x."
   ]
  },
  {
   "cell_type": "code",
   "execution_count": 61,
   "id": "ff5ee2c7",
   "metadata": {},
   "outputs": [],
   "source": [
    "import pandas as p\n",
    "p.read"
   ]
  },
  {
   "cell_type": "code",
   "execution_count": 66,
   "id": "27d7d897",
   "metadata": {},
   "outputs": [
    {
     "name": "stdout",
     "output_type": "stream",
     "text": [
      "0 1 2 3 4 5 6 7 8 9 "
     ]
    }
   ],
   "source": [
    "\n",
    "total = 0\n",
    "for i in range(10):\n",
    "    total += i\n",
    "    print(i, end=' ')\n",
    "#print('sum = {}'.format(total))\n",
    "\n",
    "\n",
    "\n",
    "\n"
   ]
  },
  {
   "cell_type": "code",
   "execution_count": 68,
   "id": "7a3c5ab6",
   "metadata": {},
   "outputs": [
    {
     "name": "stdout",
     "output_type": "stream",
     "text": [
      "24\n"
     ]
    }
   ],
   "source": [
    "print(math.factorial(4))   #4!=4*3*2*1=24\n"
   ]
  },
  {
   "cell_type": "markdown",
   "id": "ae312db8",
   "metadata": {},
   "source": [
    "## 9. Type Conversion"
   ]
  },
  {
   "cell_type": "code",
   "execution_count": null,
   "id": "5ebb4f36",
   "metadata": {
    "scrolled": false
   },
   "outputs": [],
   "source": [
    "x = input(\"x: \")\n",
    "y = x + 3\n",
    "print(y)"
   ]
  },
  {
   "cell_type": "code",
   "execution_count": 78,
   "id": "9d518166",
   "metadata": {},
   "outputs": [
    {
     "name": "stdout",
     "output_type": "stream",
     "text": [
      "please enter a value: 4\n",
      "5\n"
     ]
    }
   ],
   "source": [
    "x = int(input('please enter a value: '))\n",
    "y = x + 1\n",
    "print(y)"
   ]
  },
  {
   "cell_type": "code",
   "execution_count": 77,
   "id": "ad9242d4",
   "metadata": {},
   "outputs": [
    {
     "name": "stdout",
     "output_type": "stream",
     "text": [
      "zzzz\n"
     ]
    }
   ],
   "source": [
    "z = 5\n",
    "a = 'z' * 4\n",
    "print(a)"
   ]
  },
  {
   "cell_type": "code",
   "execution_count": null,
   "id": "bc19cc93",
   "metadata": {},
   "outputs": [],
   "source": [
    "#type of conversion:\n",
    "\n",
    "#int(x)\n",
    "#float(x)\n",
    "#str(x)\n",
    "#bool(x) # zero, none object,empty string are falsy values in python."
   ]
  },
  {
   "cell_type": "markdown",
   "id": "efe79181",
   "metadata": {},
   "source": [
    "## 10. Quiz"
   ]
  },
  {
   "cell_type": "code",
   "execution_count": null,
   "id": "eccee59d",
   "metadata": {},
   "outputs": [],
   "source": [
    "# What are the primitive data types in python?"
   ]
  },
  {
   "cell_type": "code",
   "execution_count": 79,
   "id": "e1e341d4",
   "metadata": {},
   "outputs": [
    {
     "name": "stdout",
     "output_type": "stream",
     "text": [
      "p\n",
      "ppl\n",
      "ap\n",
      "1\n"
     ]
    }
   ],
   "source": [
    "\n",
    "fruit = \"apple\"\n",
    "print(fruit[1])\n",
    "print(fruit[1:-1])\n",
    "print(fruit[:-3])\n",
    "print(10%3)\n"
   ]
  },
  {
   "cell_type": "code",
   "execution_count": 83,
   "id": "462dbf02",
   "metadata": {},
   "outputs": [
    {
     "name": "stdout",
     "output_type": "stream",
     "text": [
      "True\n"
     ]
    }
   ],
   "source": [
    "print(bool(9))\n"
   ]
  },
  {
   "cell_type": "code",
   "execution_count": 101,
   "id": "ab54dd26",
   "metadata": {},
   "outputs": [
    {
     "name": "stdout",
     "output_type": "stream",
     "text": [
      "sab\n"
     ]
    }
   ],
   "source": [
    "int = 'sab'\n",
    "print(int)"
   ]
  },
  {
   "cell_type": "code",
   "execution_count": 102,
   "id": "cc01e682",
   "metadata": {},
   "outputs": [
    {
     "ename": "SyntaxError",
     "evalue": "invalid syntax (<ipython-input-102-1b0bf1412b26>, line 1)",
     "output_type": "error",
     "traceback": [
      "\u001b[0;36m  File \u001b[0;32m\"<ipython-input-102-1b0bf1412b26>\"\u001b[0;36m, line \u001b[0;32m1\u001b[0m\n\u001b[0;31m    if = 'sab'\u001b[0m\n\u001b[0m       ^\u001b[0m\n\u001b[0;31mSyntaxError\u001b[0m\u001b[0;31m:\u001b[0m invalid syntax\n"
     ]
    }
   ],
   "source": [
    "if = 'sab'\n",
    "print(if)"
   ]
  },
  {
   "cell_type": "code",
   "execution_count": 103,
   "id": "9d5dade2",
   "metadata": {},
   "outputs": [
    {
     "name": "stdout",
     "output_type": "stream",
     "text": [
      "sab\n"
     ]
    }
   ],
   "source": [
    "str = 'sab'\n",
    "print(str)"
   ]
  },
  {
   "cell_type": "code",
   "execution_count": 84,
   "id": "992e015e",
   "metadata": {},
   "outputs": [
    {
     "ename": "SyntaxError",
     "evalue": "invalid syntax (<ipython-input-84-c7007ba18687>, line 1)",
     "output_type": "error",
     "traceback": [
      "\u001b[0;36m  File \u001b[0;32m\"<ipython-input-84-c7007ba18687>\"\u001b[0;36m, line \u001b[0;32m1\u001b[0m\n\u001b[0;31m    in = 'hhhhh'\u001b[0m\n\u001b[0m    ^\u001b[0m\n\u001b[0;31mSyntaxError\u001b[0m\u001b[0;31m:\u001b[0m invalid syntax\n"
     ]
    }
   ],
   "source": [
    "in = 'hhhhh'\n",
    "print(in)"
   ]
  },
  {
   "cell_type": "code",
   "execution_count": null,
   "id": "efa2cc4c",
   "metadata": {},
   "outputs": [],
   "source": []
  }
 ],
 "metadata": {
  "kernelspec": {
   "display_name": "Python 3",
   "language": "python",
   "name": "python3"
  },
  "language_info": {
   "codemirror_mode": {
    "name": "ipython",
    "version": 3
   },
   "file_extension": ".py",
   "mimetype": "text/x-python",
   "name": "python",
   "nbconvert_exporter": "python",
   "pygments_lexer": "ipython3",
   "version": "3.8.8"
  }
 },
 "nbformat": 4,
 "nbformat_minor": 5
}
