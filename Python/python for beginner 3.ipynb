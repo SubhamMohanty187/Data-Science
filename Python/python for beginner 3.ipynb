{
 "cells": [
  {
   "cell_type": "markdown",
   "id": "6a5f7860",
   "metadata": {},
   "source": [
    "# 3. Control Flow"
   ]
  },
  {
   "cell_type": "markdown",
   "id": "06f0c1bd",
   "metadata": {},
   "source": [
    "## 1. Comparison Operators"
   ]
  },
  {
   "cell_type": "code",
   "execution_count": 1,
   "id": "90b9914d",
   "metadata": {
    "scrolled": true
   },
   "outputs": [
    {
     "name": "stdout",
     "output_type": "stream",
     "text": [
      "False\n",
      "True\n",
      "True\n",
      "True\n",
      "True\n",
      "True\n"
     ]
    }
   ],
   "source": [
    "print(10 < 3) # Here we get boolean value\n",
    "print(10 >= 3)\n",
    "print(10 < 20)\n",
    "print(10 <= 20)\n",
    "print(10 == 10)\n",
    "\n",
    "\n",
    "\n",
    "x = 10\n",
    "print(x == 10)\n"
   ]
  },
  {
   "cell_type": "code",
   "execution_count": 2,
   "id": "37766128",
   "metadata": {},
   "outputs": [
    {
     "name": "stdout",
     "output_type": "stream",
     "text": [
      "10\n"
     ]
    },
    {
     "data": {
      "text/plain": [
       "True"
      ]
     },
     "execution_count": 2,
     "metadata": {},
     "output_type": "execute_result"
    }
   ],
   "source": [
    "student = 10\n",
    "print(student)\n",
    "student == 10"
   ]
  },
  {
   "cell_type": "code",
   "execution_count": 3,
   "id": "b8bb418b",
   "metadata": {},
   "outputs": [
    {
     "data": {
      "text/plain": [
       "False"
      ]
     },
     "execution_count": 3,
     "metadata": {},
     "output_type": "execute_result"
    }
   ],
   "source": [
    "10 == \"10\" "
   ]
  },
  {
   "cell_type": "code",
   "execution_count": 4,
   "id": "fbfbef69",
   "metadata": {},
   "outputs": [
    {
     "data": {
      "text/plain": [
       "True"
      ]
     },
     "execution_count": 4,
     "metadata": {},
     "output_type": "execute_result"
    }
   ],
   "source": [
    "10 != '10'"
   ]
  },
  {
   "cell_type": "code",
   "execution_count": 5,
   "id": "0c172df6",
   "metadata": {},
   "outputs": [
    {
     "data": {
      "text/plain": [
       "True"
      ]
     },
     "execution_count": 5,
     "metadata": {},
     "output_type": "execute_result"
    }
   ],
   "source": [
    "'abc'<'dcb'"
   ]
  },
  {
   "cell_type": "code",
   "execution_count": 6,
   "id": "9601ad6f",
   "metadata": {},
   "outputs": [
    {
     "data": {
      "text/plain": [
       "100"
      ]
     },
     "execution_count": 6,
     "metadata": {},
     "output_type": "execute_result"
    }
   ],
   "source": [
    "ord('d')"
   ]
  },
  {
   "cell_type": "code",
   "execution_count": 7,
   "id": "a259ecf8",
   "metadata": {},
   "outputs": [
    {
     "data": {
      "text/plain": [
       "True"
      ]
     },
     "execution_count": 7,
     "metadata": {},
     "output_type": "execute_result"
    }
   ],
   "source": [
    "'abc'>'ab'"
   ]
  },
  {
   "cell_type": "code",
   "execution_count": 8,
   "id": "f4520f7a",
   "metadata": {
    "scrolled": true
   },
   "outputs": [
    {
     "data": {
      "text/plain": [
       "False"
      ]
     },
     "execution_count": 8,
     "metadata": {},
     "output_type": "execute_result"
    }
   ],
   "source": [
    "'fag' > 'fga'"
   ]
  },
  {
   "cell_type": "code",
   "execution_count": 9,
   "id": "c23b1e76",
   "metadata": {
    "scrolled": true
   },
   "outputs": [
    {
     "data": {
      "text/plain": [
       "103"
      ]
     },
     "execution_count": 9,
     "metadata": {},
     "output_type": "execute_result"
    }
   ],
   "source": [
    "ord('g')"
   ]
  },
  {
   "cell_type": "code",
   "execution_count": 10,
   "id": "5c89727a",
   "metadata": {},
   "outputs": [
    {
     "data": {
      "text/plain": [
       "100"
      ]
     },
     "execution_count": 10,
     "metadata": {},
     "output_type": "execute_result"
    }
   ],
   "source": [
    "ord('d')"
   ]
  },
  {
   "cell_type": "code",
   "execution_count": 11,
   "id": "8fa3af56",
   "metadata": {},
   "outputs": [
    {
     "data": {
      "text/plain": [
       "False"
      ]
     },
     "execution_count": 11,
     "metadata": {},
     "output_type": "execute_result"
    }
   ],
   "source": [
    "'pool' < '' # False beacuse every character has a numeric representation. lets see next step"
   ]
  },
  {
   "cell_type": "code",
   "execution_count": 12,
   "id": "1dc3bd56",
   "metadata": {},
   "outputs": [
    {
     "data": {
      "text/plain": [
       "115"
      ]
     },
     "execution_count": 12,
     "metadata": {},
     "output_type": "execute_result"
    }
   ],
   "source": [
    "ord('s')"
   ]
  },
  {
   "cell_type": "code",
   "execution_count": 13,
   "id": "d2932a69",
   "metadata": {},
   "outputs": [
    {
     "data": {
      "text/plain": [
       "False"
      ]
     },
     "execution_count": 13,
     "metadata": {},
     "output_type": "execute_result"
    }
   ],
   "source": [
    "'abc'>'abcd'"
   ]
  },
  {
   "cell_type": "code",
   "execution_count": 14,
   "id": "9971c670",
   "metadata": {},
   "outputs": [
    {
     "data": {
      "text/plain": [
       "116"
      ]
     },
     "execution_count": 14,
     "metadata": {},
     "output_type": "execute_result"
    }
   ],
   "source": [
    "ord('t') #converts a character into its Unicode code value.\n",
    "         #This method accepts a single character."
   ]
  },
  {
   "cell_type": "code",
   "execution_count": 15,
   "id": "7556bb9d",
   "metadata": {},
   "outputs": [
    {
     "data": {
      "text/plain": [
       "66"
      ]
     },
     "execution_count": 15,
     "metadata": {},
     "output_type": "execute_result"
    }
   ],
   "source": [
    "ord('B')"
   ]
  },
  {
   "cell_type": "code",
   "execution_count": 16,
   "id": "0f78eb18",
   "metadata": {},
   "outputs": [
    {
     "data": {
      "text/plain": [
       "True"
      ]
     },
     "execution_count": 16,
     "metadata": {},
     "output_type": "execute_result"
    }
   ],
   "source": [
    "'bag' > 'BAG'"
   ]
  },
  {
   "cell_type": "code",
   "execution_count": 17,
   "id": "d65d556f",
   "metadata": {
    "scrolled": true
   },
   "outputs": [
    {
     "data": {
      "text/plain": [
       "66"
      ]
     },
     "execution_count": 17,
     "metadata": {},
     "output_type": "execute_result"
    }
   ],
   "source": [
    "ord(\"B\")"
   ]
  },
  {
   "cell_type": "code",
   "execution_count": 18,
   "id": "dc0e5248",
   "metadata": {},
   "outputs": [
    {
     "data": {
      "text/plain": [
       "98"
      ]
     },
     "execution_count": 18,
     "metadata": {},
     "output_type": "execute_result"
    }
   ],
   "source": [
    "ord(\"b\")"
   ]
  },
  {
   "cell_type": "code",
   "execution_count": 19,
   "id": "cd0f0109",
   "metadata": {},
   "outputs": [
    {
     "data": {
      "text/plain": [
       "False"
      ]
     },
     "execution_count": 19,
     "metadata": {},
     "output_type": "execute_result"
    }
   ],
   "source": [
    "'bag' < 'BAG'"
   ]
  },
  {
   "cell_type": "markdown",
   "id": "dde09997",
   "metadata": {},
   "source": [
    "## 2. Conditional Statement"
   ]
  },
  {
   "cell_type": "code",
   "execution_count": 20,
   "id": "6a983d72",
   "metadata": {},
   "outputs": [
    {
     "name": "stdout",
     "output_type": "stream",
     "text": [
      " please add the value of temp: 23\n"
     ]
    }
   ],
   "source": [
    "temperature = int(input(' please add the value of temp: '))\n",
    "if temperature > 30:\n",
    "    print(\"drink water\")\n",
    "    print(\"hot day\")\n"
   ]
  },
  {
   "cell_type": "code",
   "execution_count": 21,
   "id": "b6d6c063",
   "metadata": {},
   "outputs": [
    {
     "name": "stdout",
     "output_type": "stream",
     "text": [
      " please add the value of temp: 23\n"
     ]
    }
   ],
   "source": [
    "temperature = int(input(' please add the value of temp: '))\n",
    "if temperature > 30:\n",
    "    print(\"it's a nice day\")\n",
    "    print(\"drink water\")\n",
    "#elif temperature > 20:\n",
    "    #print(\"it is nice day\")\n",
    "elif temperature == 5:\n",
    "    print('its very cold day')\n",
    "    print(\"done\")"
   ]
  },
  {
   "cell_type": "code",
   "execution_count": 22,
   "id": "45ae9c97",
   "metadata": {},
   "outputs": [
    {
     "name": "stdout",
     "output_type": "stream",
     "text": [
      "its ohk\n",
      "done\n"
     ]
    }
   ],
   "source": [
    "temperature = 19\n",
    "if temperature > 30:\n",
    "    print(\"it is warm\")\n",
    "    print(\"drink water\")\n",
    "elif temperature > 20:\n",
    "    print(\"it is nice day\")\n",
    "else:\n",
    "    print(\"its ohk\")\n",
    "print(\"done\")"
   ]
  },
  {
   "cell_type": "code",
   "execution_count": 23,
   "id": "4155a2e3",
   "metadata": {},
   "outputs": [
    {
     "name": "stdout",
     "output_type": "stream",
     "text": [
      "please add any number : 23\n",
      "the student is not eligible for next class\n"
     ]
    }
   ],
   "source": [
    "mark = int(input(\"please add any number : \"))\n",
    "if mark >50:\n",
    "    print(\"the student is eligible for next class\")\n",
    "else:\n",
    "    print(\"the student is not eligible for next class\")\n",
    "    "
   ]
  },
  {
   "cell_type": "markdown",
   "id": "ff775936",
   "metadata": {},
   "source": [
    "## 3. Ternary Operator"
   ]
  },
  {
   "cell_type": "code",
   "execution_count": 24,
   "id": "9517e985",
   "metadata": {},
   "outputs": [
    {
     "name": "stdout",
     "output_type": "stream",
     "text": [
      "its a cold day\n"
     ]
    }
   ],
   "source": [
    "temperature = 12\n",
    "if temperature > 20:\n",
    "    print('its a nyc day')\n",
    "else:\n",
    "    print(\"its a cold day\")"
   ]
  },
  {
   "cell_type": "code",
   "execution_count": 25,
   "id": "ee424f05",
   "metadata": {},
   "outputs": [
    {
     "name": "stdout",
     "output_type": "stream",
     "text": [
      "it is a nice day\n"
     ]
    }
   ],
   "source": [
    "temperature = 21\n",
    "message = \"it is a nice day\" if temperature >= 20 else \"its a cold day\"\n",
    "print(message)"
   ]
  },
  {
   "cell_type": "code",
   "execution_count": 46,
   "id": "b50980ba",
   "metadata": {},
   "outputs": [
    {
     "name": "stdout",
     "output_type": "stream",
     "text": [
      "its a cold day\n"
     ]
    }
   ],
   "source": [
    "temperature = 12\n",
    "print(\"it is a nice day\" if temperature >=18 else \"its a cold day\")"
   ]
  },
  {
   "cell_type": "code",
   "execution_count": 49,
   "id": "fee7bb6c",
   "metadata": {},
   "outputs": [
    {
     "name": "stdout",
     "output_type": "stream",
     "text": [
      "am not eligible for vote\n"
     ]
    }
   ],
   "source": [
    "age = 13\n",
    "if age >= 18:\n",
    "    print(\"yes am eligible for vote\")\n",
    "else:\n",
    "    print(\"am not eligible for vote\")"
   ]
  },
  {
   "cell_type": "code",
   "execution_count": 28,
   "id": "cbf2585e",
   "metadata": {},
   "outputs": [
    {
     "name": "stdout",
     "output_type": "stream",
     "text": [
      "am not eligible for vote\n"
     ]
    }
   ],
   "source": [
    "age = 13\n",
    "message = \"yes am eligible for vote\" if age >= 18 else \"am not eligible for vote\"\n",
    "print(message)"
   ]
  },
  {
   "cell_type": "code",
   "execution_count": 29,
   "id": "f6cbd0f6",
   "metadata": {},
   "outputs": [
    {
     "name": "stdout",
     "output_type": "stream",
     "text": [
      "am not eligible for vote\n"
     ]
    }
   ],
   "source": [
    "age = 13\n",
    "print(\"yes am eligible for vote\" if age >= 18 else \"am not eligible for vote\")\n"
   ]
  },
  {
   "cell_type": "code",
   "execution_count": 30,
   "id": "32ae6b95",
   "metadata": {},
   "outputs": [
    {
     "name": "stdout",
     "output_type": "stream",
     "text": [
      "person is  eligible for voting\n"
     ]
    }
   ],
   "source": [
    "age = 22\n",
    "if age >= 18:\n",
    "    print(\"person is  eligible for voting\")\n",
    "else:\n",
    "    print(\"Person is not eligible for voting\")"
   ]
  },
  {
   "cell_type": "code",
   "execution_count": 31,
   "id": "aeb80f00",
   "metadata": {},
   "outputs": [
    {
     "name": "stdout",
     "output_type": "stream",
     "text": [
      "person is not eligible for voting\n"
     ]
    }
   ],
   "source": [
    "age = 16\n",
    "condition = \"person is eligible for voting\" if age >= 18 else \"person is not eligible for voting\"\n",
    "print(condition)"
   ]
  },
  {
   "cell_type": "markdown",
   "id": "f12679a9",
   "metadata": {},
   "source": [
    "## 4. Logical Operators"
   ]
  },
  {
   "cell_type": "code",
   "execution_count": 32,
   "id": "8e5c517c",
   "metadata": {},
   "outputs": [
    {
     "name": "stdout",
     "output_type": "stream",
     "text": [
      "not eligible for loan\n"
     ]
    }
   ],
   "source": [
    "high_income = True\n",
    "good_credit = False \n",
    "\n",
    "if high_income and good_credit:\n",
    "    print(\"eligible for loan\")\n",
    "else:\n",
    "    print(\"not eligible for loan\")"
   ]
  },
  {
   "cell_type": "code",
   "execution_count": 33,
   "id": "97aee38a",
   "metadata": {},
   "outputs": [
    {
     "name": "stdout",
     "output_type": "stream",
     "text": [
      "eligible for loan\n"
     ]
    }
   ],
   "source": [
    "high_income = False\n",
    "good_credit = True\n",
    "\n",
    "if high_income or good_credit:\n",
    "    print(\"eligible for loan\")\n",
    "else:\n",
    "    print(\"not eligible for loan\")"
   ]
  },
  {
   "cell_type": "code",
   "execution_count": 53,
   "id": "3b6b69c1",
   "metadata": {},
   "outputs": [
    {
     "name": "stdout",
     "output_type": "stream",
     "text": [
      "its ohk\n",
      "it is not ohk\n"
     ]
    }
   ],
   "source": [
    "high_income = True\n",
    "good_credit = False\n",
    "student = False\n",
    "\n",
    "if  good_credit:\n",
    "    print(\"eligible for loan\")\n",
    "elif  student:\n",
    "    print(\"not eligible for loan\")\n",
    "elif high_income:\n",
    "    print('its ohk')\n",
    "print(\"it is not ohk\")"
   ]
  },
  {
   "cell_type": "code",
   "execution_count": 54,
   "id": "4bc363ba",
   "metadata": {},
   "outputs": [
    {
     "name": "stdout",
     "output_type": "stream",
     "text": [
      "eligible for loan\n"
     ]
    }
   ],
   "source": [
    "high_income = True\n",
    "good_credit = False\n",
    "student = True\n",
    "\n",
    "if (high_income and good_credit) or  student:\n",
    "    print(\"eligible for loan\")\n",
    "else:\n",
    "    print(\"not eligible for loan\")"
   ]
  },
  {
   "cell_type": "markdown",
   "id": "61512592",
   "metadata": {},
   "source": [
    "## 5. Short-circuit Evaluation"
   ]
  },
  {
   "cell_type": "code",
   "execution_count": 56,
   "id": "82fe45b2",
   "metadata": {},
   "outputs": [
    {
     "name": "stdout",
     "output_type": "stream",
     "text": [
      "xxyyzz\n"
     ]
    }
   ],
   "source": [
    "high_income = False\n",
    "good_credit = False\n",
    "student = False\n",
    "\n",
    "if good_credit or high_income or  student:\n",
    "    print(\"eligible for loan\") \n",
    "else:\n",
    "    print(\"xxyyzz\")\n",
    "#Here if any one of the statement is true then the python interpreter stop excute the whole code."
   ]
  },
  {
   "cell_type": "code",
   "execution_count": 57,
   "id": "89ad2ad5",
   "metadata": {},
   "outputs": [
    {
     "name": "stdout",
     "output_type": "stream",
     "text": [
      "xxyyzz\n"
     ]
    }
   ],
   "source": [
    "high_income = True\n",
    "good_credit = False\n",
    "student = True\n",
    "\n",
    "if high_income and  good_credit and  student:\n",
    "    print(\"eligible for loan\")\n",
    "else:\n",
    "    print(\"xxyyzz\")\n",
    "#Here if any one of the statement is false then the python interpreter will stop the excute the whole program."
   ]
  },
  {
   "cell_type": "markdown",
   "id": "1dd2c502",
   "metadata": {},
   "source": [
    "## 6. Chaining Comparion Operators"
   ]
  },
  {
   "cell_type": "code",
   "execution_count": 58,
   "id": "7013f96f",
   "metadata": {},
   "outputs": [
    {
     "name": "stdout",
     "output_type": "stream",
     "text": [
      " enter a number : 4\n",
      "not eligible\n"
     ]
    }
   ],
   "source": [
    "#Age should be in between 18 and 65\n",
    "age = int(input(\" enter a number : \"))\n",
    "if age >= 18 and age < 65:\n",
    "    print(\"eligible for loan\")\n",
    "else:\n",
    "    print(\"not eligible\")"
   ]
  },
  {
   "cell_type": "code",
   "execution_count": 60,
   "id": "140bff66",
   "metadata": {},
   "outputs": [
    {
     "name": "stdout",
     "output_type": "stream",
     "text": [
      "plz enter the age :75\n",
      "not eligible\n"
     ]
    }
   ],
   "source": [
    "#Age should be in between 18 and 65\n",
    "age = int(input(\"plz enter the age :\")) \n",
    "if 18 <= age < 65: # This is called chaining comparison \n",
    "    print(\"eligible\")\n",
    "else:\n",
    "    print(\"not eligible\")"
   ]
  },
  {
   "cell_type": "markdown",
   "id": "02e0a963",
   "metadata": {},
   "source": [
    "## 7. Quiz"
   ]
  },
  {
   "cell_type": "code",
   "execution_count": 40,
   "id": "2f468743",
   "metadata": {},
   "outputs": [
    {
     "name": "stdout",
     "output_type": "stream",
     "text": [
      "c\n"
     ]
    }
   ],
   "source": [
    "if 10 == '10':\n",
    "    print('a')\n",
    "elif 'bag' > 'gpple' and 'bag' > 'bat':\n",
    "    print('b')\n",
    "else:\n",
    "    print('c')\n",
    "    "
   ]
  },
  {
   "cell_type": "code",
   "execution_count": 41,
   "id": "5234f504",
   "metadata": {},
   "outputs": [
    {
     "data": {
      "text/plain": [
       "True"
      ]
     },
     "execution_count": 41,
     "metadata": {},
     "output_type": "execute_result"
    }
   ],
   "source": [
    "'bag'<'bat'"
   ]
  },
  {
   "cell_type": "markdown",
   "id": "de922417",
   "metadata": {},
   "source": [
    "## 8. For Loops"
   ]
  },
  {
   "cell_type": "code",
   "execution_count": 62,
   "id": "3b39fcb1",
   "metadata": {},
   "outputs": [
    {
     "name": "stdout",
     "output_type": "stream",
     "text": [
      "attempt 0\n",
      "attempt 1\n",
      "attempt 2\n",
      "attempt 3\n",
      "attempt 4\n"
     ]
    }
   ],
   "source": [
    "for i in range(5):\n",
    "    print('attempt',i)"
   ]
  },
  {
   "cell_type": "code",
   "execution_count": 67,
   "id": "e67266c9",
   "metadata": {},
   "outputs": [
    {
     "name": "stdout",
     "output_type": "stream",
     "text": [
      "eligible 1\n",
      "eligible 2\n",
      "eligible 3\n",
      "eligible 4\n",
      "eligible 5\n",
      "eligible 6\n",
      "eligible 7\n",
      "eligible 8\n",
      "eligible 9\n"
     ]
    }
   ],
   "source": [
    "for number in range(1,10):\n",
    "    print('eligible',number)"
   ]
  },
  {
   "cell_type": "code",
   "execution_count": 64,
   "id": "186893de",
   "metadata": {},
   "outputs": [
    {
     "name": "stdout",
     "output_type": "stream",
     "text": [
      "attempt 1 .\n",
      "attempt 2 ..\n",
      "attempt 3 ...\n"
     ]
    }
   ],
   "source": [
    "for number in range(0,3):\n",
    "    print('attempt', number + 1,(number + 1) * '.')"
   ]
  },
  {
   "cell_type": "code",
   "execution_count": 65,
   "id": "6351a417",
   "metadata": {},
   "outputs": [
    {
     "name": "stdout",
     "output_type": "stream",
     "text": [
      "attempt 1 .\n",
      "attempt 2 ..\n",
      "attempt 3 ...\n"
     ]
    }
   ],
   "source": [
    "for number in range(1, 4):\n",
    "    print('attempt',number ,number * '.')"
   ]
  },
  {
   "cell_type": "code",
   "execution_count": 69,
   "id": "910cc416",
   "metadata": {},
   "outputs": [
    {
     "name": "stdout",
     "output_type": "stream",
     "text": [
      "2\n",
      "4\n",
      "4\n",
      "256\n",
      "6\n",
      "46656\n",
      "8\n",
      "16777216\n"
     ]
    }
   ],
   "source": [
    "for num in range(2,10,2):\n",
    "    print(num)\n",
    "    num = num**num\n",
    "    print(num)"
   ]
  },
  {
   "cell_type": "markdown",
   "id": "d1c109c8",
   "metadata": {},
   "source": [
    "## 9. For Else"
   ]
  },
  {
   "cell_type": "code",
   "execution_count": 6,
   "id": "0d3f0ab0",
   "metadata": {
    "scrolled": false
   },
   "outputs": [
    {
     "name": "stdout",
     "output_type": "stream",
     "text": [
      "attempt\n",
      "failed\n"
     ]
    }
   ],
   "source": [
    "successful = False\n",
    "for number in range(4):\n",
    "    print('attempt')\n",
    "    if successful:\n",
    "        print('Successful')\n",
    "        break\n",
    "    else:\n",
    "        print(\"failed\")\n",
    "        break"
   ]
  },
  {
   "cell_type": "code",
   "execution_count": 9,
   "id": "9b190ceb",
   "metadata": {},
   "outputs": [
    {
     "name": "stdout",
     "output_type": "stream",
     "text": [
      "attempt\n",
      "attempt\n",
      "attempt\n",
      "attempted 3 times and failed\n"
     ]
    }
   ],
   "source": [
    "successful = False\n",
    "for number in range(3):\n",
    "    print('attempt')\n",
    "    if successful:\n",
    "        print('Successful')\n",
    "        break \n",
    "else:\n",
    "    print('attempted 3 times and failed')\n",
    "    \n",
    "        \n",
    "\n",
    "    "
   ]
  },
  {
   "cell_type": "code",
   "execution_count": 13,
   "id": "7d6267e9",
   "metadata": {},
   "outputs": [
    {
     "name": "stdout",
     "output_type": "stream",
     "text": [
      "attempt\n",
      "attempt\n",
      "attempt\n",
      "attempted 3 times and failed\n"
     ]
    }
   ],
   "source": [
    "successful = False\n",
    "for number in range(3):\n",
    "    print('attempt')\n",
    "    if successful:\n",
    "        print('Successful')\n",
    "        break       \n",
    "print('attempted 3 times and failed')\n",
    "    "
   ]
  },
  {
   "cell_type": "markdown",
   "id": "91fd2006",
   "metadata": {},
   "source": [
    "## 10. Nested Loops"
   ]
  },
  {
   "cell_type": "code",
   "execution_count": 19,
   "id": "a9890e2b",
   "metadata": {},
   "outputs": [
    {
     "name": "stdout",
     "output_type": "stream",
     "text": [
      "(0,0)\n",
      "(0,1)\n",
      "(0,2)\n",
      "(1,0)\n",
      "(1,1)\n",
      "(1,2)\n",
      "(2,0)\n",
      "(2,1)\n",
      "(2,2)\n"
     ]
    }
   ],
   "source": [
    "for x in range(3):\n",
    "    for y in range(3):\n",
    "        print(f\"({x},{y})\")"
   ]
  },
  {
   "cell_type": "markdown",
   "id": "8ab2097d",
   "metadata": {},
   "source": [
    "## 11. Iterables"
   ]
  },
  {
   "cell_type": "code",
   "execution_count": 15,
   "id": "73215ad7",
   "metadata": {},
   "outputs": [
    {
     "name": "stdout",
     "output_type": "stream",
     "text": [
      "p\n",
      "y\n",
      "t\n",
      "h\n",
      "o\n",
      "n\n"
     ]
    }
   ],
   "source": [
    "for x in 'python':\n",
    "    print(x)"
   ]
  },
  {
   "cell_type": "code",
   "execution_count": 16,
   "id": "dbc0f2ed",
   "metadata": {},
   "outputs": [
    {
     "name": "stdout",
     "output_type": "stream",
     "text": [
      "1\n",
      "2\n",
      "3\n",
      "4\n",
      "5\n",
      "6\n",
      "7\n"
     ]
    }
   ],
   "source": [
    "for x in [1,2,3,4,5,6,7]:\n",
    "    print(x)"
   ]
  },
  {
   "cell_type": "code",
   "execution_count": 17,
   "id": "55e690c1",
   "metadata": {},
   "outputs": [
    {
     "name": "stdout",
     "output_type": "stream",
     "text": [
      "0\n",
      "1\n",
      "2\n",
      "3\n",
      "4\n",
      "5\n",
      "6\n",
      "7\n",
      "8\n",
      "9\n"
     ]
    }
   ],
   "source": [
    "for x in range(10):\n",
    "    print(x)"
   ]
  },
  {
   "cell_type": "markdown",
   "id": "0f155d98",
   "metadata": {},
   "source": [
    "## 12. While Loops"
   ]
  },
  {
   "cell_type": "code",
   "execution_count": 20,
   "id": "72dad59a",
   "metadata": {
    "scrolled": true
   },
   "outputs": [
    {
     "name": "stdout",
     "output_type": "stream",
     "text": [
      "100\n",
      "50\n",
      "25\n",
      "12\n",
      "6\n",
      "3\n",
      "1\n"
     ]
    }
   ],
   "source": [
    "number = 100\n",
    "while number >0:\n",
    "    print(number)\n",
    "    number //= 2"
   ]
  },
  {
   "cell_type": "code",
   "execution_count": 21,
   "id": "bef61e19",
   "metadata": {
    "scrolled": true
   },
   "outputs": [
    {
     "name": "stdout",
     "output_type": "stream",
     "text": [
      "1\n",
      "2\n",
      "4\n",
      "5\n",
      "6\n"
     ]
    }
   ],
   "source": [
    "i = 0\n",
    "while i < 6:\n",
    "    i += 1\n",
    "    if i == 3:\n",
    "        continue\n",
    "    print(i)"
   ]
  },
  {
   "cell_type": "code",
   "execution_count": 22,
   "id": "3a71c870",
   "metadata": {},
   "outputs": [
    {
     "name": "stdout",
     "output_type": "stream",
     "text": [
      "1\n",
      "2\n",
      "4\n",
      "5\n",
      "6\n",
      "7\n"
     ]
    }
   ],
   "source": [
    "i = 0 \n",
    "while i < 7:\n",
    "    i += 1\n",
    "    if i == 3:\n",
    "        continue\n",
    "    print(i)   \n",
    "        "
   ]
  },
  {
   "cell_type": "code",
   "execution_count": 23,
   "id": "3ba0d4ab",
   "metadata": {},
   "outputs": [
    {
     "name": "stdout",
     "output_type": "stream",
     "text": [
      "1\n",
      "2\n",
      "3\n",
      "4\n",
      "5\n",
      "i is no longer less than 6\n"
     ]
    }
   ],
   "source": [
    "i = 1\n",
    "while i < 6:\n",
    "    print(i)\n",
    "    i += 1\n",
    "else:\n",
    "    print(\"i is no longer less than 6\")\n"
   ]
  },
  {
   "cell_type": "code",
   "execution_count": null,
   "id": "24dc9bbe",
   "metadata": {},
   "outputs": [],
   "source": [
    " "
   ]
  }
 ],
 "metadata": {
  "kernelspec": {
   "display_name": "Python 3",
   "language": "python",
   "name": "python3"
  },
  "language_info": {
   "codemirror_mode": {
    "name": "ipython",
    "version": 3
   },
   "file_extension": ".py",
   "mimetype": "text/x-python",
   "name": "python",
   "nbconvert_exporter": "python",
   "pygments_lexer": "ipython3",
   "version": "3.8.8"
  }
 },
 "nbformat": 4,
 "nbformat_minor": 5
}
