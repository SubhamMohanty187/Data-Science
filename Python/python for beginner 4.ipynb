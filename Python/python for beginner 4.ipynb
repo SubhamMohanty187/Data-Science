{
 "cells": [
  {
   "cell_type": "markdown",
   "id": "58b52ec0",
   "metadata": {},
   "source": [
    "# 4.  Functions"
   ]
  },
  {
   "cell_type": "markdown",
   "id": "fcf2e40d",
   "metadata": {},
   "source": [
    "## 1. Defining Functions"
   ]
  },
  {
   "cell_type": "code",
   "execution_count": 1,
   "id": "270291d7",
   "metadata": {},
   "outputs": [
    {
     "name": "stdout",
     "output_type": "stream",
     "text": [
      "hi everyone\n",
      "welcome to divineAI\n",
      "hii sir\n"
     ]
    }
   ],
   "source": [
    "# Defining your own custom funtion.\n",
    "# we are creating our own custom fuction because in real time program the code will too lengthy so we have to break that code smaller part and maintainable.\n",
    "def greet():  #def means define\n",
    "    print(\"hi everyone\")\n",
    "    print(\"welcome to divineAI\")\n",
    "    print(\"hii sir\")\n",
    "greet()"
   ]
  },
  {
   "cell_type": "code",
   "execution_count": 2,
   "id": "d501a021",
   "metadata": {},
   "outputs": [
    {
     "name": "stdout",
     "output_type": "stream",
     "text": [
      "hi\n",
      "my name is sabyasachi mohanty\n",
      "and am working in divineAi\n"
     ]
    }
   ],
   "source": [
    "def name():\n",
    "    print(\"hi\")\n",
    "    print(\"my name is sabyasachi mohanty\")\n",
    "    print(\"and am working in divineAi\")\n",
    "name()"
   ]
  },
  {
   "cell_type": "markdown",
   "id": "f8c75564",
   "metadata": {},
   "source": [
    "## 2. Argument"
   ]
  },
  {
   "cell_type": "code",
   "execution_count": 10,
   "id": "f464b8cb",
   "metadata": {},
   "outputs": [
    {
     "name": "stdout",
     "output_type": "stream",
     "text": [
      " plz enter first name : h\n",
      "plz enter second name : j\n",
      "plz enter second name : k\n",
      "hi h j k\n",
      "hi h j k\n",
      "hi xxyyzz xyz mhbjhfb\n",
      "hi xxyyzz xyz mhbjhfb\n",
      "hi rakesh das jhvfrb\n",
      "hi rakesh das jhvfrb\n"
     ]
    }
   ],
   "source": [
    "def greet(first_name, middle_name,last_name): #here first_name and last_name are two parameter.\n",
    "    print(F\"hi {first_name} {middle_name} {last_name}\")# we are giving parameter is the input to define your function.\n",
    "    print(\"hi\",first_name,middle_name,last_name)\n",
    "    #print(\"welcome to divineAi\")\n",
    "x = input(\" plz enter first name : \")\n",
    "y = input(\"plz enter second name : \")\n",
    "z = input(\"plz enter second name : \")\n",
    "greet(x,y,z) #'sabyasachi' and 'mohanty' are two argument.\n",
    "greet('xxyyzz','xyz','mhbjhfb')# argument is define as the actual value of the given parameter.\n",
    "greet('rakesh','das','jhvfrb')"
   ]
  },
  {
   "cell_type": "markdown",
   "id": "76594a6b",
   "metadata": {},
   "source": [
    "## 3. Types of Functions"
   ]
  },
  {
   "cell_type": "code",
   "execution_count": 37,
   "id": "be42be22",
   "metadata": {},
   "outputs": [
    {
     "name": "stdout",
     "output_type": "stream",
     "text": [
      "Hi sabya\n",
      "divineai\n",
      "5\n",
      "5.3\n"
     ]
    }
   ],
   "source": [
    "#We have two types of functions\n",
    "# 1- perform a task\n",
    "# 2- calculate and Return a value\n",
    " \n",
    "def greet(name):\n",
    "    print(f\"Hi {name}\") # here gret and print function printing someting in the terminal or output.here they are doing some task.  \n",
    "greet('sabya')    \n",
    "    \n",
    "x = 'divineai'\n",
    "print(x)\n",
    "    \n",
    "print(round(5.3)) # here round function calculate something and return some vlaues.\n",
    "print(5.3)\n",
    " "
   ]
  },
  {
   "cell_type": "code",
   "execution_count": 40,
   "id": "3409e710",
   "metadata": {},
   "outputs": [
    {
     "data": {
      "text/plain": [
       "'sabyasachi'"
      ]
     },
     "execution_count": 40,
     "metadata": {},
     "output_type": "execute_result"
    }
   ],
   "source": [
    "x = 'sabyasachi'\n",
    "x"
   ]
  },
  {
   "cell_type": "code",
   "execution_count": 22,
   "id": "becacbed",
   "metadata": {},
   "outputs": [
    {
     "data": {
      "text/plain": [
       "'hi sabyasachi'"
      ]
     },
     "execution_count": 22,
     "metadata": {},
     "output_type": "execute_result"
    }
   ],
   "source": [
    "def get_greeting(name):\n",
    "    return f\"hi {name}\" # we are using return statement to return value of the function.\n",
    "\n",
    "get_greeting('sabyasachi')\n",
    "\n"
   ]
  },
  {
   "cell_type": "markdown",
   "id": "b7bdb283",
   "metadata": {},
   "source": [
    "## 4. Keyword Argument "
   ]
  },
  {
   "cell_type": "code",
   "execution_count": 24,
   "id": "48821209",
   "metadata": {},
   "outputs": [
    {
     "data": {
      "text/plain": [
       "10"
      ]
     },
     "execution_count": 24,
     "metadata": {},
     "output_type": "execute_result"
    }
   ],
   "source": [
    " def increment(number, by):\n",
    "        return number + by\n",
    "    \n",
    "increment(7,3)"
   ]
  },
  {
   "cell_type": "code",
   "execution_count": 28,
   "id": "1ca71799",
   "metadata": {},
   "outputs": [
    {
     "data": {
      "text/plain": [
       "10"
      ]
     },
     "execution_count": 28,
     "metadata": {},
     "output_type": "execute_result"
    }
   ],
   "source": [
    "def increment(number,by):\n",
    "        return number + by\n",
    "    \n",
    "increment(6,by=4)# here by=1 is the keyword. We are using keywords to keep our program more readble.\n",
    "\n"
   ]
  },
  {
   "cell_type": "markdown",
   "id": "3aeb4f5a",
   "metadata": {},
   "source": [
    "## 5. Default Arguments"
   ]
  },
  {
   "cell_type": "code",
   "execution_count": 29,
   "id": "d707062e",
   "metadata": {},
   "outputs": [
    {
     "name": "stdout",
     "output_type": "stream",
     "text": [
      "106\n"
     ]
    }
   ],
   "source": [
    "def increment(number, by=6): # here we are using by=1 is a default vlaue.\n",
    "        return number + by\n",
    "    \n",
    "print(increment(100))"
   ]
  },
  {
   "cell_type": "code",
   "execution_count": 33,
   "id": "e5d7974b",
   "metadata": {},
   "outputs": [
    {
     "data": {
      "text/plain": [
       "6"
      ]
     },
     "execution_count": 33,
     "metadata": {},
     "output_type": "execute_result"
    }
   ],
   "source": [
    "def increment(number, by=2): \n",
    "    return number + by\n",
    "    \n",
    "increment(4,4) # here by=1  behaves like optional parameter. \n"
   ]
  },
  {
   "cell_type": "code",
   "execution_count": 15,
   "id": "32a4e678",
   "metadata": {},
   "outputs": [
    {
     "data": {
      "text/plain": [
       "'djjvajg'"
      ]
     },
     "execution_count": 15,
     "metadata": {},
     "output_type": "execute_result"
    }
   ],
   "source": [
    "float = 'djjvajg'\n",
    "float"
   ]
  },
  {
   "cell_type": "code",
   "execution_count": 16,
   "id": "4a508b6f",
   "metadata": {},
   "outputs": [
    {
     "ename": "SyntaxError",
     "evalue": "invalid syntax (<ipython-input-16-ee0a35978e1c>, line 1)",
     "output_type": "error",
     "traceback": [
      "\u001b[0;36m  File \u001b[0;32m\"<ipython-input-16-ee0a35978e1c>\"\u001b[0;36m, line \u001b[0;32m1\u001b[0m\n\u001b[0;31m    del = 'xyz'\u001b[0m\n\u001b[0m        ^\u001b[0m\n\u001b[0;31mSyntaxError\u001b[0m\u001b[0;31m:\u001b[0m invalid syntax\n"
     ]
    }
   ],
   "source": [
    "del = 'xyz'\n",
    "del"
   ]
  },
  {
   "cell_type": "code",
   "execution_count": null,
   "id": "e0eba0ec",
   "metadata": {},
   "outputs": [],
   "source": []
  }
 ],
 "metadata": {
  "kernelspec": {
   "display_name": "Python 3",
   "language": "python",
   "name": "python3"
  },
  "language_info": {
   "codemirror_mode": {
    "name": "ipython",
    "version": 3
   },
   "file_extension": ".py",
   "mimetype": "text/x-python",
   "name": "python",
   "nbconvert_exporter": "python",
   "pygments_lexer": "ipython3",
   "version": "3.8.8"
  }
 },
 "nbformat": 4,
 "nbformat_minor": 5
}
