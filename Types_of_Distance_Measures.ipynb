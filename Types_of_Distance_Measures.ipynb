{
  "nbformat": 4,
  "nbformat_minor": 0,
  "metadata": {
    "colab": {
      "name": "Types of Distance Measures.ipynb",
      "provenance": [],
      "authorship_tag": "ABX9TyPr+qjEbLz46l8TYZfhgZHk",
      "include_colab_link": true
    },
    "kernelspec": {
      "name": "python3",
      "display_name": "Python 3"
    },
    "language_info": {
      "name": "python"
    }
  },
  "cells": [
    {
      "cell_type": "markdown",
      "metadata": {
        "id": "view-in-github",
        "colab_type": "text"
      },
      "source": [
        "<a href=\"https://colab.research.google.com/github/SubhamMohanty187/Data-Science/blob/main/Types_of_Distance_Measures.ipynb\" target=\"_parent\"><img src=\"https://colab.research.google.com/assets/colab-badge.svg\" alt=\"Open In Colab\"/></a>"
      ]
    },
    {
      "cell_type": "markdown",
      "source": [
        "###Euclidean Distance"
      ],
      "metadata": {
        "id": "NECi-PCmUAU3"
      }
    },
    {
      "cell_type": "code",
      "execution_count": 1,
      "metadata": {
        "colab": {
          "base_uri": "https://localhost:8080/"
        },
        "id": "eGO9Px36TwCx",
        "outputId": "a0d5b789-7c0f-42b1-a906-fa820af2cc28"
      },
      "outputs": [
        {
          "output_type": "stream",
          "name": "stdout",
          "text": [
            "6.082762530298219\n"
          ]
        }
      ],
      "source": [
        "# calculating euclidean distance between vectors\n",
        "from scipy.spatial.distance import euclidean\n",
        "# define data\n",
        "row1 = [10, 20, 15, 10, 5]\n",
        "row2 = [12, 24, 18, 8, 7]\n",
        "# calculate distance\n",
        "dist = euclidean(row1, row2)\n",
        "print(dist)"
      ]
    },
    {
      "cell_type": "markdown",
      "source": [
        "###Hamming Distance"
      ],
      "metadata": {
        "id": "sWDoQgssUMZF"
      }
    },
    {
      "cell_type": "code",
      "source": [
        "# calculating hamming distance between bit strings\n",
        "from scipy.spatial.distance import hamming\n",
        "# define data\n",
        "row1 = [0, 0, 0, 0, 0, 1]\n",
        "row2 = [0, 0, 0, 0, 1, 0]\n",
        "# calculate distance\n",
        "dist = hamming(row1, row2)\n",
        "print(dist)"
      ],
      "metadata": {
        "colab": {
          "base_uri": "https://localhost:8080/"
        },
        "id": "r6sSpdHKUDvH",
        "outputId": "bb44e8f5-5b28-4ab5-a10d-2b448c952ff8"
      },
      "execution_count": 2,
      "outputs": [
        {
          "output_type": "stream",
          "name": "stdout",
          "text": [
            "0.3333333333333333\n"
          ]
        }
      ]
    },
    {
      "cell_type": "markdown",
      "source": [
        "###Manhattan Distance"
      ],
      "metadata": {
        "id": "UB9BJNqBUcQV"
      }
    },
    {
      "cell_type": "code",
      "source": [
        "# calculating manhattan distance between vectors\n",
        "from scipy.spatial.distance import cityblock\n",
        "# define data\n",
        "row1 = [10, 20, 15, 10, 5]\n",
        "row2 = [12, 24, 18, 8, 7]\n",
        "# calculate distance\n",
        "dist = cityblock(row1, row2)\n",
        "print(dist)"
      ],
      "metadata": {
        "colab": {
          "base_uri": "https://localhost:8080/"
        },
        "id": "wVNg83gLUZ0e",
        "outputId": "c9b5860e-ee53-43d0-ce8c-221bbab49113"
      },
      "execution_count": 3,
      "outputs": [
        {
          "output_type": "stream",
          "name": "stdout",
          "text": [
            "13\n"
          ]
        }
      ]
    },
    {
      "cell_type": "markdown",
      "source": [
        "###Minkowski Distance"
      ],
      "metadata": {
        "id": "CgIYECE6UfYC"
      }
    },
    {
      "cell_type": "code",
      "source": [
        "# calculating minkowski distance between vectors\n",
        "from scipy.spatial import minkowski_distance\n",
        "# define data\n",
        "row1 = [10, 20, 15, 10, 5]\n",
        "row2 = [12, 24, 18, 8, 7]\n",
        "# calculate distance (p=1)\n",
        "dist = minkowski_distance(row1, row2, 1)\n",
        "print(dist)\n",
        "# calculate distance (p=2)\n",
        "dist = minkowski_distance(row1, row2, 2)\n",
        "print(dist)"
      ],
      "metadata": {
        "colab": {
          "base_uri": "https://localhost:8080/"
        },
        "id": "RLkr5PaIUiYU",
        "outputId": "1cb305af-6796-482c-a4db-bcccc6458c6d"
      },
      "execution_count": 4,
      "outputs": [
        {
          "output_type": "stream",
          "name": "stdout",
          "text": [
            "13.0\n",
            "6.082762530298219\n"
          ]
        }
      ]
    }
  ]
}